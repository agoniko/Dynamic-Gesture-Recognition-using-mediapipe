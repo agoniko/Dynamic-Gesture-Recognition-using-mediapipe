{
 "cells": [
  {
   "cell_type": "code",
   "execution_count": 24,
   "metadata": {},
   "outputs": [],
   "source": [
    "import json\n",
    "import numpy as np\n"
   ]
  },
  {
   "cell_type": "code",
   "execution_count": 25,
   "metadata": {},
   "outputs": [],
   "source": [
    "labels_dataset = \"./data/labels/1 label dataset.json\"\n",
    "values_dataset = \"./data/values/1 values dataset.json\""
   ]
  },
  {
   "cell_type": "code",
   "execution_count": 26,
   "metadata": {},
   "outputs": [],
   "source": [
    "landmark_list = json.load(open(values_dataset))\n",
    "timestamps = [float(x) for x in list(landmark_list.keys())]\n",
    "\n",
    "#loading labels from the key_log.txt file with format: timestamp,key\n",
    "labels = json.load(open(labels_dataset))"
   ]
  },
  {
   "cell_type": "code",
   "execution_count": 27,
   "metadata": {},
   "outputs": [
    {
     "data": {
      "text/plain": [
       "(229, 4796, 4796)"
      ]
     },
     "execution_count": 27,
     "metadata": {},
     "output_type": "execute_result"
    }
   ],
   "source": [
    "len(labels), len(timestamps), len(landmark_list)"
   ]
  },
  {
   "cell_type": "code",
   "execution_count": 28,
   "metadata": {},
   "outputs": [
    {
     "data": {
      "text/plain": [
       "(4796, 21, 3)"
      ]
     },
     "execution_count": 28,
     "metadata": {},
     "output_type": "execute_result"
    }
   ],
   "source": [
    "values = []\n",
    "for val in landmark_list.values():\n",
    "    values.append(list(val.values()))\n",
    "\n",
    "values = np.array(values)\n",
    "values.shape"
   ]
  },
  {
   "cell_type": "code",
   "execution_count": 29,
   "metadata": {},
   "outputs": [
    {
     "data": {
      "text/plain": [
       "(1594, 14, 21, 3)"
      ]
     },
     "execution_count": 29,
     "metadata": {},
     "output_type": "execute_result"
    }
   ],
   "source": [
    "data = []\n",
    "window_size = 14\n",
    "overlap = 3\n",
    "for i in range(0, len(values) - window_size, overlap):\n",
    "    data.append(values[i:i+window_size])\n",
    "\n",
    "data = np.array(data)\n",
    "data.shape"
   ]
  },
  {
   "attachments": {},
   "cell_type": "markdown",
   "metadata": {},
   "source": [
    "# Training autoencoder for self-supervised learning (easy way)\n",
    "### This helps learning representation of dynamic gestures"
   ]
  },
  {
   "cell_type": "code",
   "execution_count": 30,
   "metadata": {},
   "outputs": [
    {
     "name": "stdout",
     "output_type": "stream",
     "text": [
      "Model: \"model_6\"\n",
      "_________________________________________________________________\n",
      " Layer (type)                Output Shape              Param #   \n",
      "=================================================================\n",
      " input_5 (InputLayer)        [(None, 14, 21, 3)]       0         \n",
      "                                                                 \n",
      " model_4 (Functional)        (None, 7, 7, 32)          5088      \n",
      "                                                                 \n",
      " model_5 (Functional)        (None, 14, 21, 3)         5059      \n",
      "                                                                 \n",
      "=================================================================\n",
      "Total params: 10147 (39.64 KB)\n",
      "Trainable params: 10147 (39.64 KB)\n",
      "Non-trainable params: 0 (0.00 Byte)\n",
      "_________________________________________________________________\n"
     ]
    }
   ],
   "source": [
    "import tensorflow as tf\n",
    "from keras.layers import Input, Dense, Conv2D, MaxPooling2D, UpSampling2D\n",
    "from keras.models import Model\n",
    "from keras import backend as K\n",
    "\n",
    "input_shape = Input(shape=(window_size, 21, 3))\n",
    "x = Conv2D(16, (3, 3), activation='relu', padding='same')(input_shape)\n",
    "x = MaxPooling2D((2, 3), padding='same')(x)\n",
    "encoded = Conv2D(32, (3, 3), activation='relu', padding='same', name = \"encoder\")(x)\n",
    "encoder_model = Model(input_shape, encoded)\n",
    "\n",
    "decoder_input = Input(shape = (encoder_model.output_shape[1:]))\n",
    "#x = Conv2D(32, (3, 3), activation='relu', padding='same')(decoder_input)\n",
    "x = UpSampling2D((2, 3))(decoder_input)\n",
    "x = Conv2D(16, (3, 3), activation='relu', padding='same')(x)\n",
    "x = UpSampling2D((1, 1))(x)\n",
    "decoded = Conv2D(3, (3, 3), activation='relu', padding='same')(x)\n",
    "decoder_model = Model(decoder_input, decoded)\n",
    "\n",
    "encoded_representation = encoder_model(input_shape)\n",
    "decoded_output = decoder_model(encoded_representation)\n",
    "autoencoder = Model(inputs=input_shape, outputs=decoded_output)\n",
    "\n",
    "autoencoder.summary()"
   ]
  },
  {
   "cell_type": "code",
   "execution_count": 31,
   "metadata": {},
   "outputs": [
    {
     "name": "stdout",
     "output_type": "stream",
     "text": [
      "Epoch 1/30\n"
     ]
    },
    {
     "name": "stderr",
     "output_type": "stream",
     "text": [
      "2023-06-20 17:49:09.508213: I tensorflow/core/grappler/optimizers/custom_graph_optimizer_registry.cc:114] Plugin optimizer for device_type GPU is enabled.\n"
     ]
    },
    {
     "name": "stdout",
     "output_type": "stream",
     "text": [
      "180/180 [==============================] - 3s 13ms/step - loss: 0.0221 - val_loss: 0.0070\n",
      "Epoch 2/30\n",
      "  6/180 [>.............................] - ETA: 1s - loss: 0.0046"
     ]
    },
    {
     "name": "stderr",
     "output_type": "stream",
     "text": [
      "2023-06-20 17:49:12.187730: I tensorflow/core/grappler/optimizers/custom_graph_optimizer_registry.cc:114] Plugin optimizer for device_type GPU is enabled.\n"
     ]
    },
    {
     "name": "stdout",
     "output_type": "stream",
     "text": [
      "180/180 [==============================] - 2s 11ms/step - loss: 0.0042 - val_loss: 0.0056\n",
      "Epoch 3/30\n",
      "180/180 [==============================] - 2s 12ms/step - loss: 0.0036 - val_loss: 0.0049\n",
      "Epoch 4/30\n",
      "180/180 [==============================] - 2s 11ms/step - loss: 0.0033 - val_loss: 0.0045\n",
      "Epoch 5/30\n",
      "180/180 [==============================] - 2s 11ms/step - loss: 0.0032 - val_loss: 0.0044\n",
      "Epoch 6/30\n",
      "180/180 [==============================] - 2s 11ms/step - loss: 0.0031 - val_loss: 0.0044\n",
      "Epoch 7/30\n",
      "180/180 [==============================] - 2s 11ms/step - loss: 0.0030 - val_loss: 0.0041\n",
      "Epoch 8/30\n",
      "180/180 [==============================] - 2s 11ms/step - loss: 0.0029 - val_loss: 0.0041\n",
      "Epoch 9/30\n",
      "180/180 [==============================] - 2s 11ms/step - loss: 0.0029 - val_loss: 0.0041\n",
      "Epoch 10/30\n",
      "180/180 [==============================] - 2s 11ms/step - loss: 0.0028 - val_loss: 0.0040\n",
      "Epoch 11/30\n",
      "180/180 [==============================] - 2s 11ms/step - loss: 0.0028 - val_loss: 0.0040\n",
      "Epoch 12/30\n",
      "180/180 [==============================] - 2s 11ms/step - loss: 0.0027 - val_loss: 0.0038\n",
      "Epoch 13/30\n",
      "180/180 [==============================] - 2s 11ms/step - loss: 0.0027 - val_loss: 0.0037\n",
      "Epoch 14/30\n",
      "180/180 [==============================] - 2s 11ms/step - loss: 0.0026 - val_loss: 0.0037\n",
      "Epoch 15/30\n",
      "180/180 [==============================] - 2s 11ms/step - loss: 0.0026 - val_loss: 0.0036\n",
      "Epoch 16/30\n",
      "180/180 [==============================] - 2s 11ms/step - loss: 0.0026 - val_loss: 0.0036\n",
      "Epoch 17/30\n",
      "180/180 [==============================] - 2s 12ms/step - loss: 0.0026 - val_loss: 0.0036\n",
      "Epoch 18/30\n",
      "180/180 [==============================] - 2s 11ms/step - loss: 0.0025 - val_loss: 0.0036\n",
      "Epoch 19/30\n",
      "180/180 [==============================] - 2s 11ms/step - loss: 0.0025 - val_loss: 0.0035\n",
      "Epoch 20/30\n",
      "180/180 [==============================] - 2s 11ms/step - loss: 0.0025 - val_loss: 0.0035\n",
      "Epoch 21/30\n",
      "180/180 [==============================] - 2s 11ms/step - loss: 0.0025 - val_loss: 0.0034\n",
      "Epoch 22/30\n",
      "180/180 [==============================] - 2s 11ms/step - loss: 0.0025 - val_loss: 0.0034\n",
      "Epoch 23/30\n",
      "180/180 [==============================] - 2s 11ms/step - loss: 0.0025 - val_loss: 0.0033\n",
      "Epoch 24/30\n",
      "180/180 [==============================] - 2s 12ms/step - loss: 0.0024 - val_loss: 0.0035\n",
      "Epoch 25/30\n",
      "180/180 [==============================] - 2s 12ms/step - loss: 0.0024 - val_loss: 0.0034\n",
      "Epoch 26/30\n",
      "180/180 [==============================] - 2s 12ms/step - loss: 0.0024 - val_loss: 0.0033\n",
      "Epoch 27/30\n",
      "180/180 [==============================] - 2s 11ms/step - loss: 0.0024 - val_loss: 0.0034\n",
      "Epoch 28/30\n",
      "180/180 [==============================] - 2s 12ms/step - loss: 0.0024 - val_loss: 0.0033\n",
      "Epoch 29/30\n",
      "180/180 [==============================] - 2s 11ms/step - loss: 0.0024 - val_loss: 0.0033\n",
      "Epoch 30/30\n",
      "180/180 [==============================] - 2s 11ms/step - loss: 0.0024 - val_loss: 0.0033\n"
     ]
    },
    {
     "data": {
      "text/plain": [
       "<keras.src.callbacks.History at 0x1685a6110>"
      ]
     },
     "execution_count": 31,
     "metadata": {},
     "output_type": "execute_result"
    }
   ],
   "source": [
    "autoencoder.compile(optimizer='adam', loss='mse')\n",
    "autoencoder.fit(data, data, epochs=30, batch_size=16, shuffle=True, validation_split=0.1)"
   ]
  },
  {
   "attachments": {},
   "cell_type": "markdown",
   "metadata": {},
   "source": [
    "# Finetuning the encoder part"
   ]
  },
  {
   "cell_type": "code",
   "execution_count": 43,
   "metadata": {},
   "outputs": [],
   "source": [
    "#fine tuning the encoder model\n",
    "from keras.models import Sequential\n",
    "from keras.layers import Flatten\n",
    "for layer in encoder_model.layers:\n",
    "    layer.trainable = False\n",
    "\n",
    "additional_layers = Sequential([\n",
    "    Input(shape = (encoder_model.output_shape[1:])),\n",
    "    Flatten(),\n",
    "    Dense(512, activation='relu'),\n",
    "    Dense(128, activation='relu'),\n",
    "    Dense(32, activation='relu'),\n",
    "    Dense(4, activation='sigmoid')\n",
    "]\n",
    ")"
   ]
  },
  {
   "cell_type": "code",
   "execution_count": 44,
   "metadata": {},
   "outputs": [
    {
     "name": "stdout",
     "output_type": "stream",
     "text": [
      "Model: \"sequential_5\"\n",
      "_________________________________________________________________\n",
      " Layer (type)                Output Shape              Param #   \n",
      "=================================================================\n",
      " model_4 (Functional)        (None, 7, 7, 32)          5088      \n",
      "                                                                 \n",
      " sequential_4 (Sequential)   (None, 4)                 873252    \n",
      "                                                                 \n",
      "=================================================================\n",
      "Total params: 878340 (3.35 MB)\n",
      "Trainable params: 873252 (3.33 MB)\n",
      "Non-trainable params: 5088 (19.88 KB)\n",
      "_________________________________________________________________\n"
     ]
    }
   ],
   "source": [
    "model = Sequential([encoder_model, additional_layers])\n",
    "model.compile(optimizer='adam', loss='categorical_crossentropy', metrics=['accuracy'])\n",
    "model.summary()"
   ]
  },
  {
   "cell_type": "code",
   "execution_count": 45,
   "metadata": {},
   "outputs": [],
   "source": [
    "labels = json.load(open(labels_dataset, \"r\"))\n",
    "\n",
    "#Now, from landmark_list, we want to extract a window of 0.5 seconds before and after each key press\n",
    "#We will use the labels dictionary to label each window\n",
    "#We will use the timestamps list to find the closest timestamp to the key press timestamp\n",
    "#We will use the freq variable to calculate the number of frames we need to extract for each window\n",
    "#We will use the loaded_landmark_list to extract the frames\n",
    "window_size = 0.5  #0.5 seconds before and after the key press\n",
    "freq = 14 #14 frames per second\n",
    "window_frames = int(freq * window_size)\n",
    "X, Y = [], []\n",
    "for key in labels.keys():\n",
    "    key = float(key)\n",
    "    closest_timestamp = min(timestamps, key=lambda x:abs(x-key))\n",
    "    index = timestamps.index(closest_timestamp)\n",
    "    if index - window_frames < 0:\n",
    "        continue\n",
    "    if index + window_frames >= len(timestamps):\n",
    "        continue\n",
    "    \n",
    "    window = []\n",
    "    for i in range(index-window_frames, index+window_frames):\n",
    "        k = str(timestamps[i])\n",
    "        window.append(landmark_list[k])\n",
    "\n",
    "    X.append(window)\n",
    "    Y.append(labels[str(key)])\n",
    "\n",
    "#retrive a structure with shape (n_windows, window_size, 21, 3)\n",
    "data2 = []\n",
    "for window in X:\n",
    "    temp = []\n",
    "    for sample in window:\n",
    "        temp.append(np.array(list(sample.values())))\n",
    "    \n",
    "    data2.append(np.array(temp))\n",
    "\n",
    "data = np.array(data2)\n",
    "del data2\n"
   ]
  },
  {
   "cell_type": "code",
   "execution_count": 46,
   "metadata": {},
   "outputs": [],
   "source": [
    "from sklearn.preprocessing import OneHotEncoder\n",
    "#Y = [1 if y == 'Key.left' else 0 for y in Y]\n",
    "Y = np.array(Y)\n",
    "encoder = OneHotEncoder()\n",
    "Y_encoded = encoder.fit_transform(Y.reshape(-1, 1)).toarray()"
   ]
  },
  {
   "cell_type": "code",
   "execution_count": 61,
   "metadata": {},
   "outputs": [],
   "source": [
    "from sklearn.model_selection import train_test_split\n",
    "X_train, X_test, y_train, y_test = train_test_split(data, Y_encoded, test_size=0.2, random_state=0)"
   ]
  },
  {
   "cell_type": "code",
   "execution_count": 62,
   "metadata": {},
   "outputs": [
    {
     "name": "stdout",
     "output_type": "stream",
     "text": [
      "Epoch 1/30\n"
     ]
    },
    {
     "name": "stdout",
     "output_type": "stream",
     "text": [
      "11/11 [==============================] - 1s 51ms/step - loss: 0.1107 - accuracy: 0.9573 - val_loss: 0.0045 - val_accuracy: 1.0000\n",
      "Epoch 2/30\n",
      "11/11 [==============================] - 1s 47ms/step - loss: 0.0769 - accuracy: 0.9756 - val_loss: 0.0018 - val_accuracy: 1.0000\n",
      "Epoch 3/30\n",
      "11/11 [==============================] - 1s 47ms/step - loss: 0.1241 - accuracy: 0.9756 - val_loss: 0.0319 - val_accuracy: 1.0000\n",
      "Epoch 4/30\n",
      "11/11 [==============================] - 0s 46ms/step - loss: 0.2793 - accuracy: 0.9268 - val_loss: 0.3467 - val_accuracy: 0.8421\n",
      "Epoch 5/30\n",
      "11/11 [==============================] - 1s 47ms/step - loss: 0.4032 - accuracy: 0.9451 - val_loss: 0.1300 - val_accuracy: 0.9474\n",
      "Epoch 6/30\n",
      "11/11 [==============================] - 1s 48ms/step - loss: 0.3796 - accuracy: 0.9451 - val_loss: 0.7954 - val_accuracy: 0.8947\n",
      "Epoch 7/30\n",
      "11/11 [==============================] - 1s 47ms/step - loss: 0.4331 - accuracy: 0.9329 - val_loss: 0.1407 - val_accuracy: 0.9474\n",
      "Epoch 8/30\n",
      "11/11 [==============================] - 1s 49ms/step - loss: 0.3727 - accuracy: 0.9085 - val_loss: 0.7752 - val_accuracy: 0.9474\n",
      "Epoch 9/30\n",
      "11/11 [==============================] - 0s 46ms/step - loss: 0.3524 - accuracy: 0.9390 - val_loss: 0.0299 - val_accuracy: 1.0000\n",
      "Epoch 10/30\n",
      "11/11 [==============================] - 1s 47ms/step - loss: 0.1379 - accuracy: 0.9634 - val_loss: 0.0022 - val_accuracy: 1.0000\n",
      "Epoch 11/30\n",
      "11/11 [==============================] - 1s 48ms/step - loss: 0.0197 - accuracy: 0.9939 - val_loss: 0.0056 - val_accuracy: 1.0000\n",
      "Epoch 12/30\n",
      "11/11 [==============================] - 1s 47ms/step - loss: 0.0292 - accuracy: 0.9939 - val_loss: 0.0043 - val_accuracy: 1.0000\n",
      "Epoch 13/30\n",
      "11/11 [==============================] - 0s 45ms/step - loss: 0.0390 - accuracy: 0.9939 - val_loss: 0.0026 - val_accuracy: 1.0000\n",
      "Epoch 14/30\n",
      "11/11 [==============================] - 0s 45ms/step - loss: 0.0184 - accuracy: 0.9939 - val_loss: 0.0031 - val_accuracy: 1.0000\n",
      "Epoch 15/30\n",
      "11/11 [==============================] - 1s 47ms/step - loss: 0.0152 - accuracy: 0.9939 - val_loss: 0.0036 - val_accuracy: 1.0000\n",
      "Epoch 16/30\n",
      "11/11 [==============================] - 1s 48ms/step - loss: 0.0511 - accuracy: 0.9939 - val_loss: 0.0156 - val_accuracy: 1.0000\n",
      "Epoch 17/30\n",
      "11/11 [==============================] - 1s 47ms/step - loss: 0.0510 - accuracy: 0.9939 - val_loss: 0.0033 - val_accuracy: 1.0000\n",
      "Epoch 18/30\n",
      "11/11 [==============================] - 1s 46ms/step - loss: 0.0158 - accuracy: 0.9939 - val_loss: 0.0020 - val_accuracy: 1.0000\n",
      "Epoch 19/30\n",
      "11/11 [==============================] - 0s 45ms/step - loss: 0.0148 - accuracy: 0.9939 - val_loss: 0.0062 - val_accuracy: 1.0000\n",
      "Epoch 20/30\n",
      "11/11 [==============================] - 1s 46ms/step - loss: 0.0120 - accuracy: 1.0000 - val_loss: 0.0082 - val_accuracy: 1.0000\n",
      "Epoch 21/30\n",
      "11/11 [==============================] - 1s 47ms/step - loss: 0.0058 - accuracy: 1.0000 - val_loss: 0.0024 - val_accuracy: 1.0000\n",
      "Epoch 22/30\n",
      "11/11 [==============================] - 1s 47ms/step - loss: 0.0064 - accuracy: 1.0000 - val_loss: 0.0019 - val_accuracy: 1.0000\n",
      "Epoch 23/30\n",
      "11/11 [==============================] - 1s 46ms/step - loss: 0.0053 - accuracy: 1.0000 - val_loss: 0.0023 - val_accuracy: 1.0000\n",
      "Epoch 24/30\n",
      "11/11 [==============================] - 1s 48ms/step - loss: 0.0051 - accuracy: 1.0000 - val_loss: 0.0026 - val_accuracy: 1.0000\n",
      "Epoch 25/30\n",
      "11/11 [==============================] - 1s 47ms/step - loss: 0.0057 - accuracy: 1.0000 - val_loss: 0.0026 - val_accuracy: 1.0000\n",
      "Epoch 26/30\n",
      "11/11 [==============================] - 0s 45ms/step - loss: 0.0053 - accuracy: 1.0000 - val_loss: 0.0023 - val_accuracy: 1.0000\n",
      "Epoch 27/30\n",
      "11/11 [==============================] - 0s 46ms/step - loss: 0.0052 - accuracy: 1.0000 - val_loss: 0.0023 - val_accuracy: 1.0000\n",
      "Epoch 28/30\n",
      "11/11 [==============================] - 1s 47ms/step - loss: 0.0054 - accuracy: 1.0000 - val_loss: 0.0020 - val_accuracy: 1.0000\n",
      "Epoch 29/30\n",
      "11/11 [==============================] - 0s 46ms/step - loss: 0.0054 - accuracy: 1.0000 - val_loss: 0.0017 - val_accuracy: 1.0000\n",
      "Epoch 30/30\n",
      "11/11 [==============================] - 1s 48ms/step - loss: 0.0057 - accuracy: 1.0000 - val_loss: 0.0027 - val_accuracy: 1.0000\n"
     ]
    },
    {
     "data": {
      "text/plain": [
       "<keras.src.callbacks.History at 0x31e658910>"
      ]
     },
     "execution_count": 62,
     "metadata": {},
     "output_type": "execute_result"
    }
   ],
   "source": [
    "model.fit(X_train, y_train, epochs=30, batch_size=16, shuffle=True, validation_split=0.1)"
   ]
  },
  {
   "cell_type": "code",
   "execution_count": 63,
   "metadata": {},
   "outputs": [
    {
     "name": "stdout",
     "output_type": "stream",
     "text": [
      "2/2 [==============================] - 0s 18ms/step\n"
     ]
    }
   ],
   "source": [
    "y_pred = model.predict(X_test)"
   ]
  },
  {
   "cell_type": "code",
   "execution_count": 64,
   "metadata": {},
   "outputs": [
    {
     "data": {
      "text/plain": [
       "((46, 4), (46, 4))"
      ]
     },
     "execution_count": 64,
     "metadata": {},
     "output_type": "execute_result"
    }
   ],
   "source": [
    "y_test.shape, y_pred.shape"
   ]
  },
  {
   "cell_type": "code",
   "execution_count": 65,
   "metadata": {},
   "outputs": [
    {
     "data": {
      "text/plain": [
       "array([[ 3,  0,  0,  1],\n",
       "       [ 0, 17,  0,  0],\n",
       "       [ 0,  1, 21,  0],\n",
       "       [ 0,  0,  0,  3]])"
      ]
     },
     "execution_count": 65,
     "metadata": {},
     "output_type": "execute_result"
    }
   ],
   "source": [
    "from sklearn.metrics import confusion_matrix\n",
    "confusion_matrix(y_test.argmax(axis=1), y_pred.argmax(axis=1))"
   ]
  },
  {
   "cell_type": "code",
   "execution_count": 66,
   "metadata": {},
   "outputs": [
    {
     "name": "stdout",
     "output_type": "stream",
     "text": [
      "Precision:  0.9631642512077295\n",
      "Recall:  0.9565217391304348\n",
      "F1:  0.9565795175501949\n"
     ]
    }
   ],
   "source": [
    "from sklearn.metrics import precision_score, recall_score, f1_score\n",
    "precision = precision_score(y_test.argmax(axis = 1), y_pred.argmax(axis=1), average='weighted')\n",
    "recall = recall_score(y_test.argmax(axis=1), y_pred.argmax(axis=1), average='weighted')\n",
    "f1 = f1_score(y_test.argmax(axis=1), y_pred.argmax(axis=1), average='weighted')\n",
    "print(\"Precision: \", precision)\n",
    "print(\"Recall: \", recall)\n",
    "print(\"F1: \", f1)"
   ]
  },
  {
   "attachments": {},
   "cell_type": "markdown",
   "metadata": {},
   "source": [
    "# Trying with baseline model"
   ]
  },
  {
   "cell_type": "code",
   "execution_count": 67,
   "metadata": {},
   "outputs": [
    {
     "name": "stdout",
     "output_type": "stream",
     "text": [
      "Epoch 1/30\n"
     ]
    },
    {
     "name": "stderr",
     "output_type": "stream",
     "text": [
      "2023-06-20 17:53:40.890338: I tensorflow/core/grappler/optimizers/custom_graph_optimizer_registry.cc:114] Plugin optimizer for device_type GPU is enabled.\n",
      "2023-06-20 17:53:41.070428: I tensorflow/core/grappler/optimizers/custom_graph_optimizer_registry.cc:114] Plugin optimizer for device_type GPU is enabled.\n"
     ]
    },
    {
     "name": "stdout",
     "output_type": "stream",
     "text": [
      " 1/11 [=>............................] - ETA: 15s - loss: 1.1679 - accuracy: 0.3750"
     ]
    },
    {
     "name": "stderr",
     "output_type": "stream",
     "text": [
      "2023-06-20 17:53:41.308431: I tensorflow/core/grappler/optimizers/custom_graph_optimizer_registry.cc:114] Plugin optimizer for device_type GPU is enabled.\n"
     ]
    },
    {
     "name": "stdout",
     "output_type": "stream",
     "text": [
      "11/11 [==============================] - ETA: 0s - loss: 0.8738 - accuracy: 0.6098"
     ]
    },
    {
     "name": "stderr",
     "output_type": "stream",
     "text": [
      "2023-06-20 17:53:42.650025: I tensorflow/core/grappler/optimizers/custom_graph_optimizer_registry.cc:114] Plugin optimizer for device_type GPU is enabled.\n",
      "2023-06-20 17:53:42.730081: I tensorflow/core/grappler/optimizers/custom_graph_optimizer_registry.cc:114] Plugin optimizer for device_type GPU is enabled.\n"
     ]
    },
    {
     "name": "stdout",
     "output_type": "stream",
     "text": [
      "11/11 [==============================] - 3s 143ms/step - loss: 0.8738 - accuracy: 0.6098 - val_loss: 0.5003 - val_accuracy: 0.8947\n",
      "Epoch 2/30\n",
      "11/11 [==============================] - 1s 53ms/step - loss: 0.3546 - accuracy: 0.9146 - val_loss: 0.2560 - val_accuracy: 0.8947\n",
      "Epoch 3/30\n",
      "11/11 [==============================] - 1s 51ms/step - loss: 0.1990 - accuracy: 0.9390 - val_loss: 0.1673 - val_accuracy: 0.8947\n",
      "Epoch 4/30\n",
      "11/11 [==============================] - 1s 49ms/step - loss: 0.1311 - accuracy: 0.9634 - val_loss: 0.1580 - val_accuracy: 0.8947\n",
      "Epoch 5/30\n",
      "11/11 [==============================] - 1s 49ms/step - loss: 0.1068 - accuracy: 0.9695 - val_loss: 0.1021 - val_accuracy: 0.9474\n",
      "Epoch 6/30\n",
      "11/11 [==============================] - 1s 48ms/step - loss: 0.1121 - accuracy: 0.9695 - val_loss: 0.1445 - val_accuracy: 0.9474\n",
      "Epoch 7/30\n",
      "11/11 [==============================] - 1s 47ms/step - loss: 0.1945 - accuracy: 0.9268 - val_loss: 0.1718 - val_accuracy: 0.9474\n",
      "Epoch 8/30\n",
      "11/11 [==============================] - 0s 45ms/step - loss: 0.0948 - accuracy: 0.9817 - val_loss: 0.0472 - val_accuracy: 1.0000\n",
      "Epoch 9/30\n",
      "11/11 [==============================] - 0s 46ms/step - loss: 0.0733 - accuracy: 0.9756 - val_loss: 0.0395 - val_accuracy: 1.0000\n",
      "Epoch 10/30\n",
      "11/11 [==============================] - 1s 49ms/step - loss: 0.0945 - accuracy: 0.9817 - val_loss: 0.0208 - val_accuracy: 1.0000\n",
      "Epoch 11/30\n",
      "11/11 [==============================] - 1s 48ms/step - loss: 0.0348 - accuracy: 0.9878 - val_loss: 0.0106 - val_accuracy: 1.0000\n",
      "Epoch 12/30\n",
      "11/11 [==============================] - 1s 46ms/step - loss: 0.0211 - accuracy: 0.9878 - val_loss: 0.0154 - val_accuracy: 1.0000\n",
      "Epoch 13/30\n",
      "11/11 [==============================] - 1s 47ms/step - loss: 0.0359 - accuracy: 0.9939 - val_loss: 0.0041 - val_accuracy: 1.0000\n",
      "Epoch 14/30\n",
      "11/11 [==============================] - 0s 45ms/step - loss: 0.0166 - accuracy: 0.9939 - val_loss: 0.0101 - val_accuracy: 1.0000\n",
      "Epoch 15/30\n",
      "11/11 [==============================] - 1s 47ms/step - loss: 0.0242 - accuracy: 0.9878 - val_loss: 0.0070 - val_accuracy: 1.0000\n",
      "Epoch 16/30\n",
      "11/11 [==============================] - 1s 47ms/step - loss: 0.0517 - accuracy: 0.9878 - val_loss: 0.0654 - val_accuracy: 0.9474\n",
      "Epoch 17/30\n",
      "11/11 [==============================] - 1s 46ms/step - loss: 0.0323 - accuracy: 0.9756 - val_loss: 0.0025 - val_accuracy: 1.0000\n",
      "Epoch 18/30\n",
      "11/11 [==============================] - 1s 48ms/step - loss: 0.0499 - accuracy: 0.9817 - val_loss: 0.0019 - val_accuracy: 1.0000\n",
      "Epoch 19/30\n",
      "11/11 [==============================] - 0s 45ms/step - loss: 0.0425 - accuracy: 0.9756 - val_loss: 0.1274 - val_accuracy: 0.9474\n",
      "Epoch 20/30\n",
      "11/11 [==============================] - 1s 47ms/step - loss: 0.0425 - accuracy: 0.9939 - val_loss: 0.0014 - val_accuracy: 1.0000\n",
      "Epoch 21/30\n",
      "11/11 [==============================] - 1s 50ms/step - loss: 0.0099 - accuracy: 1.0000 - val_loss: 9.7044e-04 - val_accuracy: 1.0000\n",
      "Epoch 22/30\n",
      "11/11 [==============================] - 0s 46ms/step - loss: 0.0036 - accuracy: 1.0000 - val_loss: 7.1098e-04 - val_accuracy: 1.0000\n",
      "Epoch 23/30\n",
      "11/11 [==============================] - 1s 47ms/step - loss: 0.0021 - accuracy: 1.0000 - val_loss: 0.0024 - val_accuracy: 1.0000\n",
      "Epoch 24/30\n",
      "11/11 [==============================] - 0s 45ms/step - loss: 0.0042 - accuracy: 1.0000 - val_loss: 7.5444e-04 - val_accuracy: 1.0000\n",
      "Epoch 25/30\n",
      "11/11 [==============================] - 1s 47ms/step - loss: 0.0232 - accuracy: 0.9878 - val_loss: 4.0035e-04 - val_accuracy: 1.0000\n",
      "Epoch 26/30\n",
      "11/11 [==============================] - 1s 50ms/step - loss: 0.0207 - accuracy: 0.9878 - val_loss: 0.0199 - val_accuracy: 1.0000\n",
      "Epoch 27/30\n",
      "11/11 [==============================] - 1s 49ms/step - loss: 0.0321 - accuracy: 0.9878 - val_loss: 6.8863e-04 - val_accuracy: 1.0000\n",
      "Epoch 28/30\n",
      "11/11 [==============================] - 1s 48ms/step - loss: 0.0187 - accuracy: 0.9878 - val_loss: 3.9665e-05 - val_accuracy: 1.0000\n",
      "Epoch 29/30\n",
      "11/11 [==============================] - 1s 47ms/step - loss: 0.0371 - accuracy: 0.9939 - val_loss: 2.6288e-04 - val_accuracy: 1.0000\n",
      "Epoch 30/30\n",
      "11/11 [==============================] - 1s 49ms/step - loss: 0.0128 - accuracy: 0.9939 - val_loss: 0.0061 - val_accuracy: 1.0000\n"
     ]
    },
    {
     "data": {
      "text/plain": [
       "<keras.src.callbacks.History at 0x31e637a50>"
      ]
     },
     "execution_count": 67,
     "metadata": {},
     "output_type": "execute_result"
    }
   ],
   "source": [
    "import keras\n",
    "from keras.layers import Conv3D, MaxPooling2D, Flatten, Reshape, LSTM, Dense, Conv2D, Concatenate\n",
    "num_classes = set(Y).__len__()\n",
    "inp_shape = data.shape[1:]\n",
    "\n",
    "# Input shape: (n_samples, 14, 21, 3)\n",
    "input = Input(shape=inp_shape)\n",
    "x = Conv2D(8, (2, 2), activation='relu', padding='same')(input)\n",
    "x = MaxPooling2D((2, 3), padding='same')(x)\n",
    "x = Conv2D(16, (2, 2), activation='relu', padding='same')(x)\n",
    "x = MaxPooling2D((2, 3), padding='same')(x)\n",
    "\n",
    "y = Reshape((inp_shape[0]*inp_shape[1], inp_shape[2]))(input)\n",
    "y = LSTM(16, return_sequences=True)(y)\n",
    "y = Flatten()(y)\n",
    "y = Dense(192, activation='relu')(y)\n",
    "y = Reshape((4, 3, 16))(y)\n",
    "y = Concatenate()([x, y])\n",
    "y = Flatten()(y)\n",
    "y = Dense(64, activation='relu')(y)\n",
    "y = Dense(16, activation='relu')(y)\n",
    "y = Dense(4, activation='softmax')(y)\n",
    "model = Model(input, y)\n",
    "\n",
    "model.compile(optimizer='adam', loss='categorical_crossentropy', metrics=['accuracy'])\n",
    "model.fit(X_train, y_train, epochs=30, batch_size=16, validation_split=0.1, shuffle=True)"
   ]
  },
  {
   "cell_type": "code",
   "execution_count": 68,
   "metadata": {},
   "outputs": [
    {
     "name": "stdout",
     "output_type": "stream",
     "text": [
      "2/2 [==============================] - 0s 47ms/step\n"
     ]
    },
    {
     "name": "stderr",
     "output_type": "stream",
     "text": [
      "2023-06-20 17:53:58.264034: I tensorflow/core/grappler/optimizers/custom_graph_optimizer_registry.cc:114] Plugin optimizer for device_type GPU is enabled.\n",
      "2023-06-20 17:53:58.326738: I tensorflow/core/grappler/optimizers/custom_graph_optimizer_registry.cc:114] Plugin optimizer for device_type GPU is enabled.\n"
     ]
    }
   ],
   "source": [
    "y_pred = model.predict(X_test)"
   ]
  },
  {
   "cell_type": "code",
   "execution_count": 69,
   "metadata": {},
   "outputs": [
    {
     "data": {
      "text/plain": [
       "array([[ 2,  0,  0,  2],\n",
       "       [ 0, 17,  0,  0],\n",
       "       [ 0,  2, 20,  0],\n",
       "       [ 0,  0,  0,  3]])"
      ]
     },
     "execution_count": 69,
     "metadata": {},
     "output_type": "execute_result"
    }
   ],
   "source": [
    "from sklearn.metrics import confusion_matrix\n",
    "confusion_matrix(y_test.argmax(axis=1), y_pred.argmax(axis=1))"
   ]
  },
  {
   "cell_type": "code",
   "execution_count": 70,
   "metadata": {},
   "outputs": [
    {
     "name": "stdout",
     "output_type": "stream",
     "text": [
      "Precision:  0.9350114416475972\n",
      "Recall:  0.9130434782608695\n",
      "F1:  0.9114044168391995\n"
     ]
    }
   ],
   "source": [
    "precision = precision_score(y_test.argmax(axis=1), y_pred.argmax(axis=1), average='weighted')\n",
    "recall = recall_score(y_test.argmax(axis=1), y_pred.argmax(axis=1), average='weighted')\n",
    "f1 = f1_score(y_test.argmax(axis=1), y_pred.argmax(axis=1), average='weighted')\n",
    "print(\"Precision: \", precision)\n",
    "print(\"Recall: \", recall)\n",
    "print(\"F1: \", f1)"
   ]
  },
  {
   "cell_type": "code",
   "execution_count": null,
   "metadata": {},
   "outputs": [],
   "source": []
  },
  {
   "cell_type": "code",
   "execution_count": null,
   "metadata": {},
   "outputs": [],
   "source": []
  }
 ],
 "metadata": {
  "kernelspec": {
   "display_name": "hsi",
   "language": "python",
   "name": "python3"
  },
  "language_info": {
   "codemirror_mode": {
    "name": "ipython",
    "version": 3
   },
   "file_extension": ".py",
   "mimetype": "text/x-python",
   "name": "python",
   "nbconvert_exporter": "python",
   "pygments_lexer": "ipython3",
   "version": "3.11.4"
  },
  "orig_nbformat": 4
 },
 "nbformat": 4,
 "nbformat_minor": 2
}
