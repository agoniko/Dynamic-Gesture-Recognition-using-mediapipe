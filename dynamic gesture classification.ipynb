{
 "cells": [
  {
   "cell_type": "code",
   "execution_count": 29,
   "metadata": {},
   "outputs": [],
   "source": [
    "import json\n",
    "import numpy as np\n"
   ]
  },
  {
   "cell_type": "code",
   "execution_count": 37,
   "metadata": {},
   "outputs": [],
   "source": [
    "labels_dataset = \"./data/labels/1 label dataset.json\"\n",
    "values_dataset = \"./data/values/1 values dataset.json\""
   ]
  },
  {
   "cell_type": "code",
   "execution_count": 38,
   "metadata": {},
   "outputs": [],
   "source": [
    "landmark_list = json.load(open(values_dataset))\n",
    "timestamps = [float(x) for x in list(landmark_list.keys())]\n",
    "\n",
    "#loading labels from the key_log.txt file with format: timestamp,key\n",
    "labels = json.load(open(labels_dataset))"
   ]
  },
  {
   "cell_type": "code",
   "execution_count": 39,
   "metadata": {},
   "outputs": [
    {
     "data": {
      "text/plain": [
       "(316, 7298, 7298)"
      ]
     },
     "execution_count": 39,
     "metadata": {},
     "output_type": "execute_result"
    }
   ],
   "source": [
    "len(labels), len(timestamps), len(landmark_list)"
   ]
  },
  {
   "cell_type": "code",
   "execution_count": 40,
   "metadata": {},
   "outputs": [
    {
     "data": {
      "text/plain": [
       "(7298, 21, 3)"
      ]
     },
     "execution_count": 40,
     "metadata": {},
     "output_type": "execute_result"
    }
   ],
   "source": [
    "values = []\n",
    "for val in landmark_list.values():\n",
    "    values.append(list(val.values()))\n",
    "\n",
    "values = np.array(values)\n",
    "values.shape"
   ]
  },
  {
   "cell_type": "code",
   "execution_count": 41,
   "metadata": {},
   "outputs": [
    {
     "data": {
      "text/plain": [
       "(521, 14, 21, 3)"
      ]
     },
     "execution_count": 41,
     "metadata": {},
     "output_type": "execute_result"
    }
   ],
   "source": [
    "data = []\n",
    "window_size = 14\n",
    "overlap = 14\n",
    "for i in range(0, len(values) - window_size, overlap):\n",
    "    data.append(values[i:i+window_size])\n",
    "\n",
    "data = np.array(data)\n",
    "data.shape"
   ]
  },
  {
   "attachments": {},
   "cell_type": "markdown",
   "metadata": {},
   "source": [
    "# Training autoencoder for self-supervised learning (easy way)\n",
    "### This helps learning representation of dynamic gestures"
   ]
  },
  {
   "cell_type": "code",
   "execution_count": 42,
   "metadata": {},
   "outputs": [
    {
     "name": "stdout",
     "output_type": "stream",
     "text": [
      "Model: \"model_8\"\n",
      "_________________________________________________________________\n",
      " Layer (type)                Output Shape              Param #   \n",
      "=================================================================\n",
      " input_6 (InputLayer)        [(None, 14, 21, 3)]       0         \n",
      "                                                                 \n",
      " model_6 (Functional)        (None, 7, 7, 32)          5088      \n",
      "                                                                 \n",
      " model_7 (Functional)        (None, 14, 21, 3)         5059      \n",
      "                                                                 \n",
      "=================================================================\n",
      "Total params: 10147 (39.64 KB)\n",
      "Trainable params: 10147 (39.64 KB)\n",
      "Non-trainable params: 0 (0.00 Byte)\n",
      "_________________________________________________________________\n"
     ]
    }
   ],
   "source": [
    "import tensorflow as tf\n",
    "from keras.layers import Input, Dense, Conv2D, MaxPooling2D, UpSampling2D\n",
    "from keras.models import Model\n",
    "from keras import backend as K\n",
    "\n",
    "input_shape = Input(shape=(window_size, 21, 3))\n",
    "x = Conv2D(16, (3, 3), activation='relu', padding='same')(input_shape)\n",
    "x = MaxPooling2D((2, 3), padding='same')(x)\n",
    "encoded = Conv2D(32, (3, 3), activation='relu', padding='same', name = \"encoder\")(x)\n",
    "encoder_model = Model(input_shape, encoded)\n",
    "\n",
    "decoder_input = Input(shape = (encoder_model.output_shape[1:]))\n",
    "#x = Conv2D(32, (3, 3), activation='relu', padding='same')(decoder_input)\n",
    "x = UpSampling2D((2, 3))(decoder_input)\n",
    "x = Conv2D(16, (3, 3), activation='relu', padding='same')(x)\n",
    "x = UpSampling2D((1, 1))(x)\n",
    "decoded = Conv2D(3, (3, 3), activation='relu', padding='same')(x)\n",
    "decoder_model = Model(decoder_input, decoded)\n",
    "\n",
    "encoded_representation = encoder_model(input_shape)\n",
    "decoded_output = decoder_model(encoded_representation)\n",
    "autoencoder = Model(inputs=input_shape, outputs=decoded_output)\n",
    "\n",
    "autoencoder.summary()"
   ]
  },
  {
   "cell_type": "code",
   "execution_count": 43,
   "metadata": {},
   "outputs": [
    {
     "name": "stdout",
     "output_type": "stream",
     "text": [
      "Epoch 1/30\n",
      " 1/15 [=>............................] - ETA: 5s - loss: 0.2169"
     ]
    },
    {
     "name": "stderr",
     "output_type": "stream",
     "text": [
      "2023-07-11 20:29:46.113078: I tensorflow/core/grappler/optimizers/custom_graph_optimizer_registry.cc:114] Plugin optimizer for device_type GPU is enabled.\n"
     ]
    },
    {
     "name": "stdout",
     "output_type": "stream",
     "text": [
      "15/15 [==============================] - 1s 62ms/step - loss: 0.0945 - val_loss: 0.0301\n",
      "Epoch 2/30\n",
      "10/15 [===================>..........] - ETA: 0s - loss: 0.0360"
     ]
    },
    {
     "name": "stderr",
     "output_type": "stream",
     "text": [
      "2023-07-11 20:29:47.089745: I tensorflow/core/grappler/optimizers/custom_graph_optimizer_registry.cc:114] Plugin optimizer for device_type GPU is enabled.\n"
     ]
    },
    {
     "name": "stdout",
     "output_type": "stream",
     "text": [
      "15/15 [==============================] - 0s 15ms/step - loss: 0.0338 - val_loss: 0.0194\n",
      "Epoch 3/30\n",
      "15/15 [==============================] - 0s 15ms/step - loss: 0.0224 - val_loss: 0.0135\n",
      "Epoch 4/30\n",
      "15/15 [==============================] - 0s 15ms/step - loss: 0.0156 - val_loss: 0.0098\n",
      "Epoch 5/30\n",
      "15/15 [==============================] - 0s 15ms/step - loss: 0.0119 - val_loss: 0.0077\n",
      "Epoch 6/30\n",
      "15/15 [==============================] - 0s 14ms/step - loss: 0.0095 - val_loss: 0.0067\n",
      "Epoch 7/30\n",
      "15/15 [==============================] - 0s 14ms/step - loss: 0.0081 - val_loss: 0.0061\n",
      "Epoch 8/30\n",
      "15/15 [==============================] - 0s 14ms/step - loss: 0.0071 - val_loss: 0.0055\n",
      "Epoch 9/30\n",
      "15/15 [==============================] - 0s 14ms/step - loss: 0.0065 - val_loss: 0.0051\n",
      "Epoch 10/30\n",
      "15/15 [==============================] - 0s 14ms/step - loss: 0.0061 - val_loss: 0.0048\n",
      "Epoch 11/30\n",
      "15/15 [==============================] - 0s 14ms/step - loss: 0.0057 - val_loss: 0.0045\n",
      "Epoch 12/30\n",
      "15/15 [==============================] - 0s 14ms/step - loss: 0.0055 - val_loss: 0.0043\n",
      "Epoch 13/30\n",
      "15/15 [==============================] - 0s 14ms/step - loss: 0.0053 - val_loss: 0.0041\n",
      "Epoch 14/30\n",
      "15/15 [==============================] - 0s 14ms/step - loss: 0.0051 - val_loss: 0.0040\n",
      "Epoch 15/30\n",
      "15/15 [==============================] - 0s 14ms/step - loss: 0.0049 - val_loss: 0.0038\n",
      "Epoch 16/30\n",
      "15/15 [==============================] - 0s 14ms/step - loss: 0.0048 - val_loss: 0.0038\n",
      "Epoch 17/30\n",
      "15/15 [==============================] - 0s 14ms/step - loss: 0.0047 - val_loss: 0.0037\n",
      "Epoch 18/30\n",
      "15/15 [==============================] - 0s 14ms/step - loss: 0.0046 - val_loss: 0.0037\n",
      "Epoch 19/30\n",
      "15/15 [==============================] - 0s 14ms/step - loss: 0.0045 - val_loss: 0.0035\n",
      "Epoch 20/30\n",
      "15/15 [==============================] - 0s 14ms/step - loss: 0.0044 - val_loss: 0.0035\n",
      "Epoch 21/30\n",
      "15/15 [==============================] - 0s 13ms/step - loss: 0.0043 - val_loss: 0.0034\n",
      "Epoch 22/30\n",
      "15/15 [==============================] - 0s 14ms/step - loss: 0.0042 - val_loss: 0.0033\n",
      "Epoch 23/30\n",
      "15/15 [==============================] - 0s 14ms/step - loss: 0.0042 - val_loss: 0.0033\n",
      "Epoch 24/30\n",
      "15/15 [==============================] - 0s 14ms/step - loss: 0.0041 - val_loss: 0.0032\n",
      "Epoch 25/30\n",
      "15/15 [==============================] - 0s 14ms/step - loss: 0.0040 - val_loss: 0.0032\n",
      "Epoch 26/30\n",
      "15/15 [==============================] - 0s 14ms/step - loss: 0.0039 - val_loss: 0.0031\n",
      "Epoch 27/30\n",
      "15/15 [==============================] - 0s 14ms/step - loss: 0.0039 - val_loss: 0.0031\n",
      "Epoch 28/30\n",
      "15/15 [==============================] - 0s 14ms/step - loss: 0.0038 - val_loss: 0.0030\n",
      "Epoch 29/30\n",
      "15/15 [==============================] - 0s 14ms/step - loss: 0.0037 - val_loss: 0.0030\n",
      "Epoch 30/30\n",
      "15/15 [==============================] - 0s 14ms/step - loss: 0.0037 - val_loss: 0.0030\n"
     ]
    },
    {
     "data": {
      "text/plain": [
       "<keras.src.callbacks.History at 0x127bf5a10>"
      ]
     },
     "execution_count": 43,
     "metadata": {},
     "output_type": "execute_result"
    }
   ],
   "source": [
    "autoencoder.compile(optimizer='adam', loss='mse')\n",
    "autoencoder.fit(data, data, epochs=30, batch_size=32, shuffle=True, validation_split=0.1)"
   ]
  },
  {
   "attachments": {},
   "cell_type": "markdown",
   "metadata": {},
   "source": [
    "# Finetuning the encoder part"
   ]
  },
  {
   "cell_type": "code",
   "execution_count": 44,
   "metadata": {},
   "outputs": [],
   "source": [
    "#fine tuning the encoder model\n",
    "from keras.models import Sequential\n",
    "from keras.layers import Flatten\n",
    "\n",
    "#freeze the encoder layers\n",
    "for layer in encoder_model.layers:\n",
    "    layer.trainable = False\n",
    "\n",
    "additional_layers = Sequential([\n",
    "    Input(shape = (encoder_model.output_shape[1:])),\n",
    "    Flatten(),\n",
    "    Dense(128, activation='relu'),\n",
    "    Dense(32, activation='relu'),\n",
    "    Dense(4, activation='sigmoid')\n",
    "]\n",
    ")"
   ]
  },
  {
   "cell_type": "code",
   "execution_count": 45,
   "metadata": {},
   "outputs": [
    {
     "name": "stdout",
     "output_type": "stream",
     "text": [
      "Model: \"sequential_3\"\n",
      "_________________________________________________________________\n",
      " Layer (type)                Output Shape              Param #   \n",
      "=================================================================\n",
      " model_6 (Functional)        (None, 7, 7, 32)          5088      \n",
      "                                                                 \n",
      " sequential_2 (Sequential)   (None, 4)                 205092    \n",
      "                                                                 \n",
      "=================================================================\n",
      "Total params: 210180 (821.02 KB)\n",
      "Trainable params: 205092 (801.14 KB)\n",
      "Non-trainable params: 5088 (19.88 KB)\n",
      "_________________________________________________________________\n"
     ]
    }
   ],
   "source": [
    "model = Sequential([encoder_model, additional_layers])\n",
    "model.compile(optimizer='adam', loss='categorical_crossentropy', metrics=['accuracy'])\n",
    "model.summary()"
   ]
  },
  {
   "cell_type": "code",
   "execution_count": 50,
   "metadata": {},
   "outputs": [],
   "source": [
    "labels = json.load(open(labels_dataset, \"r\"))\n",
    "\n",
    "#Now, from landmark_list, we want to extract a window of 0.5 seconds before and after each key press\n",
    "#We will use the labels dictionary to label each window\n",
    "#We will use the timestamps list to find the closest timestamp to the key press timestamp\n",
    "#We will use the freq variable to calculate the number of frames we need to extract for each window\n",
    "#We will use the loaded_landmark_list to extract the frames\n",
    "window_size = 0.5  #0.5 seconds before and after the key press\n",
    "freq = 14 #14 frames per second\n",
    "window_frames = int(freq * window_size)\n",
    "X, Y = [], []\n",
    "for key in labels.keys():\n",
    "    key = float(key)\n",
    "    closest_timestamp = min(timestamps, key=lambda x:abs(x-key))\n",
    "    index = timestamps.index(closest_timestamp)\n",
    "    if index - window_frames < 0:\n",
    "        continue\n",
    "    if index + window_frames >= len(timestamps):\n",
    "        continue\n",
    "    \n",
    "    window = []\n",
    "    for i in range(index-window_frames, index+window_frames):\n",
    "        k = str(timestamps[i])\n",
    "        window.append(landmark_list[k])\n",
    "\n",
    "    X.append(window)\n",
    "    Y.append(labels[str(key)]['label'])\n",
    "\n",
    "#retrive a structure with shape (n_windows, window_size, 21, 3)\n",
    "data2 = []\n",
    "for window in X:\n",
    "    temp = []\n",
    "    for sample in window:\n",
    "        temp.append(np.array(list(sample.values())))\n",
    "    \n",
    "    data2.append(np.array(temp))\n",
    "\n",
    "data = np.array(data2)\n",
    "del data2\n"
   ]
  },
  {
   "cell_type": "code",
   "execution_count": 52,
   "metadata": {},
   "outputs": [
    {
     "data": {
      "text/plain": [
       "['Key.right',\n",
       " 'Key.right',\n",
       " 'Key.right',\n",
       " 'Key.right',\n",
       " 'Key.right',\n",
       " 'Key.right',\n",
       " 'Key.right',\n",
       " 'Key.right',\n",
       " 'Key.right',\n",
       " 'Key.right',\n",
       " 'Key.right',\n",
       " 'Key.right',\n",
       " 'Key.right',\n",
       " 'Key.right',\n",
       " 'Key.right',\n",
       " 'Key.right',\n",
       " 'Key.right',\n",
       " 'Key.right',\n",
       " 'Key.right',\n",
       " 'Key.right',\n",
       " 'Key.right',\n",
       " 'Key.right',\n",
       " 'Key.right',\n",
       " 'Key.right',\n",
       " 'Key.right',\n",
       " 'Key.right',\n",
       " 'Key.right',\n",
       " 'Key.right',\n",
       " 'Key.right',\n",
       " 'Key.right',\n",
       " 'Key.right',\n",
       " 'Key.right',\n",
       " 'Key.right',\n",
       " 'Key.right',\n",
       " 'Key.right',\n",
       " 'Key.right',\n",
       " 'Key.right',\n",
       " 'Key.right',\n",
       " 'Key.left',\n",
       " 'Key.left',\n",
       " 'Key.left',\n",
       " 'Key.left',\n",
       " 'Key.left',\n",
       " 'Key.left',\n",
       " 'Key.left',\n",
       " 'Key.left',\n",
       " 'Key.left',\n",
       " 'Key.left',\n",
       " 'Key.left',\n",
       " 'Key.left',\n",
       " 'Key.left',\n",
       " 'Key.left',\n",
       " 'Key.left',\n",
       " 'Key.left',\n",
       " 'Key.left',\n",
       " 'Key.left',\n",
       " 'Key.left',\n",
       " 'Key.left',\n",
       " 'Key.left',\n",
       " 'Key.left',\n",
       " 'Key.left',\n",
       " 'Key.left',\n",
       " 'Key.left',\n",
       " 'Key.left',\n",
       " 'Key.left',\n",
       " 'Key.right',\n",
       " 'Key.right',\n",
       " 'Key.right',\n",
       " 'Key.right',\n",
       " 'Key.right',\n",
       " 'Key.right',\n",
       " 'Key.right',\n",
       " 'Key.right',\n",
       " 'Key.right',\n",
       " 'Key.right',\n",
       " 'Key.right',\n",
       " 'Key.right',\n",
       " 'Key.right',\n",
       " 'Key.right',\n",
       " 'Key.right',\n",
       " 'Key.right',\n",
       " 'Key.right',\n",
       " 'Key.right',\n",
       " 'Key.right',\n",
       " 'Key.right',\n",
       " 'Key.right',\n",
       " 'Key.right',\n",
       " 'Key.right',\n",
       " 'Key.right',\n",
       " 'Key.right',\n",
       " 'Key.right',\n",
       " 'Key.right',\n",
       " 'Key.right',\n",
       " 'Key.right',\n",
       " 'Key.right',\n",
       " 'Key.right',\n",
       " 'Key.right',\n",
       " 'Key.right',\n",
       " 'Key.right',\n",
       " 'Key.right',\n",
       " 'Key.right',\n",
       " 'Key.right',\n",
       " 'Key.right',\n",
       " 'Key.right',\n",
       " 'Key.right',\n",
       " 'Key.right',\n",
       " 'Key.right',\n",
       " 'Key.right',\n",
       " 'Key.right',\n",
       " 'Key.right',\n",
       " 'Key.right',\n",
       " 'Key.right',\n",
       " 'Key.right',\n",
       " 'Key.right',\n",
       " 'Key.right',\n",
       " 'Key.left',\n",
       " 'Key.left',\n",
       " 'Key.left',\n",
       " 'Key.left',\n",
       " 'Key.left',\n",
       " 'Key.left',\n",
       " 'Key.left',\n",
       " 'Key.left',\n",
       " 'Key.left',\n",
       " 'Key.left',\n",
       " 'Key.left',\n",
       " 'Key.left',\n",
       " 'Key.left',\n",
       " 'Key.left',\n",
       " 'Key.left',\n",
       " 'Key.left',\n",
       " 'Key.left',\n",
       " 'Key.left',\n",
       " 'Key.left',\n",
       " 'Key.left',\n",
       " 'Key.left',\n",
       " 'Key.left',\n",
       " 'Key.left',\n",
       " 'Key.left',\n",
       " 'Key.left',\n",
       " 'Key.left',\n",
       " 'Key.left',\n",
       " 'Key.left',\n",
       " 'Key.left',\n",
       " 'Key.left',\n",
       " 'Key.left',\n",
       " 'Key.left',\n",
       " 'Key.left',\n",
       " 'Key.left',\n",
       " 'Key.left',\n",
       " 'Key.left',\n",
       " 'Key.left',\n",
       " 'Key.left',\n",
       " 'Key.left',\n",
       " 'Key.left',\n",
       " 'Key.left',\n",
       " 'Key.left',\n",
       " 'Key.right',\n",
       " 'Key.right',\n",
       " 'Key.right',\n",
       " 'Key.right',\n",
       " 'Key.right',\n",
       " 'Key.right',\n",
       " 'Key.right',\n",
       " 'Key.right',\n",
       " 'Key.right',\n",
       " 'Key.right',\n",
       " 'Key.right',\n",
       " 'Key.right',\n",
       " 'Key.right',\n",
       " 'Key.right',\n",
       " 'Key.left',\n",
       " 'Key.left',\n",
       " 'Key.left',\n",
       " 'Key.left',\n",
       " 'Key.left',\n",
       " 'Key.right',\n",
       " 'Key.right',\n",
       " 'Key.right',\n",
       " 'Key.right',\n",
       " 'Key.right',\n",
       " 'Key.right',\n",
       " 'Key.right',\n",
       " 'Key.right',\n",
       " 'Key.right',\n",
       " 'Key.right',\n",
       " 'Key.left',\n",
       " 'Key.left',\n",
       " 'Key.left',\n",
       " 'Key.left',\n",
       " 'Key.left',\n",
       " 'Key.left',\n",
       " 'Key.left',\n",
       " 'Key.right',\n",
       " 'Key.right',\n",
       " 'Key.right',\n",
       " 'Key.right',\n",
       " 'Key.right',\n",
       " 'Key.right',\n",
       " 'Key.right',\n",
       " 'Key.up',\n",
       " 'Key.up',\n",
       " 'Key.up',\n",
       " 'Key.up',\n",
       " 'Key.up',\n",
       " 'Key.up',\n",
       " 'Key.down',\n",
       " 'Key.left',\n",
       " 'Key.down',\n",
       " 'Key.down',\n",
       " 'Key.down',\n",
       " 'Key.down',\n",
       " 'Key.down',\n",
       " 'Key.up',\n",
       " 'Key.up',\n",
       " 'Key.up',\n",
       " 'Key.up',\n",
       " 'Key.up',\n",
       " 'Key.up',\n",
       " 'Key.right',\n",
       " 'Key.right',\n",
       " 'Key.right',\n",
       " 'Key.up',\n",
       " 'Key.up',\n",
       " 'Key.down',\n",
       " 'Key.down',\n",
       " 'Key.down',\n",
       " 'Key.left',\n",
       " 'Key.left',\n",
       " 'Key.left',\n",
       " 'Key.left',\n",
       " 'Key.left',\n",
       " 'Key.left',\n",
       " 'Key.left',\n",
       " 'Key.left',\n",
       " 'Key.left',\n",
       " 'Key.left',\n",
       " 'Key.up',\n",
       " 'Key.up',\n",
       " 'Key.up',\n",
       " 'Key.up',\n",
       " 'Key.up',\n",
       " 'Key.up',\n",
       " 'Key.up',\n",
       " 'Key.up',\n",
       " 'Key.up',\n",
       " 'Key.up',\n",
       " 'Key.up',\n",
       " 'Key.up',\n",
       " 'Key.up',\n",
       " 'Key.up',\n",
       " 'Key.up',\n",
       " 'Key.up',\n",
       " 'Key.up',\n",
       " 'Key.up',\n",
       " 'Key.up',\n",
       " 'Key.up',\n",
       " 'Key.right',\n",
       " 'Key.right',\n",
       " 'Key.right',\n",
       " 'Key.right',\n",
       " 'Key.right',\n",
       " 'Key.right',\n",
       " 'Key.down',\n",
       " 'Key.down',\n",
       " 'Key.down',\n",
       " 'Key.down',\n",
       " 'Key.down',\n",
       " 'Key.down',\n",
       " 'Key.down',\n",
       " 'Key.down',\n",
       " 'Key.down',\n",
       " 'Key.down',\n",
       " 'Key.down',\n",
       " 'Key.down',\n",
       " 'Key.down',\n",
       " 'Key.down',\n",
       " 'Key.down',\n",
       " 'Key.up',\n",
       " 'Key.up',\n",
       " 'Key.up',\n",
       " 'Key.up',\n",
       " 'Key.up',\n",
       " 'Key.up',\n",
       " 'Key.down',\n",
       " 'Key.down',\n",
       " 'Key.down',\n",
       " 'Key.down',\n",
       " 'Key.down',\n",
       " 'Key.down',\n",
       " 'Key.down',\n",
       " 'Key.down',\n",
       " 'Key.down',\n",
       " 'Key.down',\n",
       " 'Key.down',\n",
       " 'Key.down',\n",
       " 'Key.down',\n",
       " 'Key.down',\n",
       " 'Key.down',\n",
       " 'Key.down',\n",
       " 'Key.down',\n",
       " 'Key.left',\n",
       " 'Key.up',\n",
       " 'Key.up',\n",
       " 'Key.down',\n",
       " 'Key.down',\n",
       " 'Key.down',\n",
       " 'Key.down',\n",
       " 'Key.right',\n",
       " 'Key.down',\n",
       " 'Key.down',\n",
       " 'Key.down',\n",
       " 'Key.down',\n",
       " 'Key.down',\n",
       " 'Key.left',\n",
       " 'Key.left']"
      ]
     },
     "execution_count": 52,
     "metadata": {},
     "output_type": "execute_result"
    }
   ],
   "source": [
    "Y"
   ]
  },
  {
   "cell_type": "code",
   "execution_count": 53,
   "metadata": {},
   "outputs": [],
   "source": [
    "from sklearn.preprocessing import OneHotEncoder\n",
    "#Y = [1 if y == 'Key.left' else 0 for y in Y]\n",
    "Y = np.array(Y)\n",
    "encoder = OneHotEncoder()\n",
    "Y_encoded = encoder.fit_transform(Y.reshape(-1, 1)).toarray()"
   ]
  },
  {
   "cell_type": "code",
   "execution_count": 54,
   "metadata": {},
   "outputs": [],
   "source": [
    "from sklearn.model_selection import train_test_split\n",
    "X_train, X_test, y_train, y_test = train_test_split(data, Y_encoded, test_size=0.2, random_state=42)"
   ]
  },
  {
   "cell_type": "code",
   "execution_count": 55,
   "metadata": {},
   "outputs": [
    {
     "name": "stdout",
     "output_type": "stream",
     "text": [
      "Epoch 1/30\n",
      "6/8 [=====================>........] - ETA: 0s - loss: 1.3096 - accuracy: 0.3333"
     ]
    },
    {
     "name": "stderr",
     "output_type": "stream",
     "text": [
      "2023-07-11 20:31:04.003463: I tensorflow/core/grappler/optimizers/custom_graph_optimizer_registry.cc:114] Plugin optimizer for device_type GPU is enabled.\n"
     ]
    },
    {
     "name": "stdout",
     "output_type": "stream",
     "text": [
      "8/8 [==============================] - 1s 50ms/step - loss: 1.3468 - accuracy: 0.3319 - val_loss: 1.0244 - val_accuracy: 0.4231\n",
      "Epoch 2/30\n",
      "8/8 [==============================] - 0s 15ms/step - loss: 1.0842 - accuracy: 0.4779 - val_loss: 0.6863 - val_accuracy: 0.8077\n",
      "Epoch 3/30\n",
      "1/8 [==>...........................] - ETA: 0s - loss: 0.7616 - accuracy: 0.7188"
     ]
    },
    {
     "name": "stderr",
     "output_type": "stream",
     "text": [
      "2023-07-11 20:31:04.421155: I tensorflow/core/grappler/optimizers/custom_graph_optimizer_registry.cc:114] Plugin optimizer for device_type GPU is enabled.\n"
     ]
    },
    {
     "name": "stdout",
     "output_type": "stream",
     "text": [
      "8/8 [==============================] - 0s 19ms/step - loss: 0.7192 - accuracy: 0.8274 - val_loss: 0.5407 - val_accuracy: 0.8846\n",
      "Epoch 4/30\n",
      "8/8 [==============================] - 0s 16ms/step - loss: 0.5455 - accuracy: 0.8673 - val_loss: 0.4157 - val_accuracy: 0.8846\n",
      "Epoch 5/30\n",
      "8/8 [==============================] - 0s 15ms/step - loss: 0.4150 - accuracy: 0.9735 - val_loss: 0.2922 - val_accuracy: 0.9615\n",
      "Epoch 6/30\n",
      "8/8 [==============================] - 0s 16ms/step - loss: 0.3116 - accuracy: 0.9602 - val_loss: 0.2203 - val_accuracy: 0.9615\n",
      "Epoch 7/30\n",
      "8/8 [==============================] - 0s 18ms/step - loss: 0.2530 - accuracy: 0.9823 - val_loss: 0.1809 - val_accuracy: 0.9615\n",
      "Epoch 8/30\n",
      "8/8 [==============================] - 0s 16ms/step - loss: 0.1996 - accuracy: 0.9690 - val_loss: 0.1488 - val_accuracy: 0.9615\n",
      "Epoch 9/30\n",
      "8/8 [==============================] - 0s 16ms/step - loss: 0.1683 - accuracy: 0.9823 - val_loss: 0.1315 - val_accuracy: 0.9615\n",
      "Epoch 10/30\n",
      "8/8 [==============================] - 0s 17ms/step - loss: 0.1459 - accuracy: 0.9867 - val_loss: 0.1173 - val_accuracy: 0.9615\n",
      "Epoch 11/30\n",
      "8/8 [==============================] - 0s 16ms/step - loss: 0.1365 - accuracy: 0.9867 - val_loss: 0.1098 - val_accuracy: 0.9615\n",
      "Epoch 12/30\n",
      "8/8 [==============================] - 0s 16ms/step - loss: 0.1190 - accuracy: 0.9867 - val_loss: 0.1075 - val_accuracy: 0.9615\n",
      "Epoch 13/30\n",
      "8/8 [==============================] - 0s 17ms/step - loss: 0.1083 - accuracy: 0.9867 - val_loss: 0.1005 - val_accuracy: 0.9615\n",
      "Epoch 14/30\n",
      "8/8 [==============================] - 0s 15ms/step - loss: 0.1029 - accuracy: 0.9867 - val_loss: 0.1035 - val_accuracy: 0.9615\n",
      "Epoch 15/30\n",
      "8/8 [==============================] - 0s 16ms/step - loss: 0.1029 - accuracy: 0.9779 - val_loss: 0.1079 - val_accuracy: 0.9615\n",
      "Epoch 16/30\n",
      "8/8 [==============================] - 0s 16ms/step - loss: 0.1019 - accuracy: 0.9867 - val_loss: 0.0840 - val_accuracy: 0.9615\n",
      "Epoch 17/30\n",
      "8/8 [==============================] - 0s 16ms/step - loss: 0.0896 - accuracy: 0.9867 - val_loss: 0.1025 - val_accuracy: 0.9615\n",
      "Epoch 18/30\n",
      "8/8 [==============================] - 0s 16ms/step - loss: 0.0903 - accuracy: 0.9867 - val_loss: 0.0950 - val_accuracy: 0.9615\n",
      "Epoch 19/30\n",
      "8/8 [==============================] - 0s 16ms/step - loss: 0.0877 - accuracy: 0.9867 - val_loss: 0.0995 - val_accuracy: 0.9615\n",
      "Epoch 20/30\n",
      "8/8 [==============================] - 0s 15ms/step - loss: 0.0843 - accuracy: 0.9912 - val_loss: 0.0880 - val_accuracy: 0.9615\n",
      "Epoch 21/30\n",
      "8/8 [==============================] - 0s 15ms/step - loss: 0.0816 - accuracy: 0.9867 - val_loss: 0.1004 - val_accuracy: 0.9615\n",
      "Epoch 22/30\n",
      "8/8 [==============================] - 0s 15ms/step - loss: 0.0788 - accuracy: 0.9867 - val_loss: 0.0978 - val_accuracy: 0.9615\n",
      "Epoch 23/30\n",
      "8/8 [==============================] - 0s 16ms/step - loss: 0.0769 - accuracy: 0.9912 - val_loss: 0.0919 - val_accuracy: 0.9615\n",
      "Epoch 24/30\n",
      "8/8 [==============================] - 0s 15ms/step - loss: 0.0769 - accuracy: 0.9867 - val_loss: 0.1021 - val_accuracy: 0.9615\n",
      "Epoch 25/30\n",
      "8/8 [==============================] - 0s 14ms/step - loss: 0.0742 - accuracy: 0.9867 - val_loss: 0.0962 - val_accuracy: 0.9615\n",
      "Epoch 26/30\n",
      "8/8 [==============================] - 0s 14ms/step - loss: 0.0711 - accuracy: 0.9912 - val_loss: 0.0998 - val_accuracy: 0.9615\n",
      "Epoch 27/30\n",
      "8/8 [==============================] - 0s 15ms/step - loss: 0.0707 - accuracy: 0.9912 - val_loss: 0.1050 - val_accuracy: 0.9615\n",
      "Epoch 28/30\n",
      "8/8 [==============================] - 0s 15ms/step - loss: 0.0705 - accuracy: 0.9867 - val_loss: 0.0955 - val_accuracy: 0.9615\n",
      "Epoch 29/30\n",
      "8/8 [==============================] - 0s 14ms/step - loss: 0.0697 - accuracy: 0.9912 - val_loss: 0.1158 - val_accuracy: 0.9615\n",
      "Epoch 30/30\n",
      "8/8 [==============================] - 0s 14ms/step - loss: 0.0692 - accuracy: 0.9867 - val_loss: 0.1175 - val_accuracy: 0.9615\n"
     ]
    },
    {
     "data": {
      "text/plain": [
       "<keras.src.callbacks.History at 0x1376c94d0>"
      ]
     },
     "execution_count": 55,
     "metadata": {},
     "output_type": "execute_result"
    }
   ],
   "source": [
    "model.fit(X_train, y_train, epochs=30, batch_size=32, shuffle=True, validation_split=0.1)"
   ]
  },
  {
   "cell_type": "code",
   "execution_count": 56,
   "metadata": {},
   "outputs": [
    {
     "name": "stdout",
     "output_type": "stream",
     "text": [
      "2/2 [==============================] - 0s 21ms/step\n"
     ]
    },
    {
     "name": "stderr",
     "output_type": "stream",
     "text": [
      "2023-07-11 20:31:15.254837: I tensorflow/core/grappler/optimizers/custom_graph_optimizer_registry.cc:114] Plugin optimizer for device_type GPU is enabled.\n"
     ]
    }
   ],
   "source": [
    "y_pred = model.predict(X_test)"
   ]
  },
  {
   "cell_type": "code",
   "execution_count": 57,
   "metadata": {},
   "outputs": [
    {
     "data": {
      "text/plain": [
       "((64, 4), (64, 4))"
      ]
     },
     "execution_count": 57,
     "metadata": {},
     "output_type": "execute_result"
    }
   ],
   "source": [
    "y_test.shape, y_pred.shape"
   ]
  },
  {
   "cell_type": "code",
   "execution_count": 58,
   "metadata": {},
   "outputs": [
    {
     "data": {
      "text/plain": [
       "array([[ 8,  0,  0,  1],\n",
       "       [ 0, 15,  0,  0],\n",
       "       [ 0,  0, 31,  0],\n",
       "       [ 0,  0,  1,  8]])"
      ]
     },
     "execution_count": 58,
     "metadata": {},
     "output_type": "execute_result"
    }
   ],
   "source": [
    "from sklearn.metrics import confusion_matrix\n",
    "confusion_matrix(y_test.argmax(axis=1), y_pred.argmax(axis=1))"
   ]
  },
  {
   "cell_type": "code",
   "execution_count": 59,
   "metadata": {},
   "outputs": [
    {
     "name": "stdout",
     "output_type": "stream",
     "text": [
      "Precision:  0.97\n",
      "Recall:  0.97\n",
      "F1:  0.97\n"
     ]
    }
   ],
   "source": [
    "from sklearn.metrics import precision_score, recall_score, f1_score\n",
    "precision = precision_score(y_test.argmax(axis = 1), y_pred.argmax(axis=1), average='weighted')\n",
    "recall = recall_score(y_test.argmax(axis=1), y_pred.argmax(axis=1), average='weighted')\n",
    "f1 = f1_score(y_test.argmax(axis=1), y_pred.argmax(axis=1), average='weighted')\n",
    "print(\"Precision: \", round(precision, 2))\n",
    "print(\"Recall: \", round(recall, 2))\n",
    "print(\"F1: \", round(f1, 2))"
   ]
  },
  {
   "attachments": {},
   "cell_type": "markdown",
   "metadata": {},
   "source": [
    "# Trying with baseline model"
   ]
  },
  {
   "cell_type": "code",
   "execution_count": 98,
   "metadata": {},
   "outputs": [
    {
     "name": "stdout",
     "output_type": "stream",
     "text": [
      "Model: \"model_12\"\n",
      "__________________________________________________________________________________________________\n",
      " Layer (type)                Output Shape                 Param #   Connected to                  \n",
      "==================================================================================================\n",
      " input_20 (InputLayer)       [(None, 14, 21, 3)]          0         []                            \n",
      "                                                                                                  \n",
      " reshape_10 (Reshape)        (None, 294, 3)               0         ['input_20[0][0]']            \n",
      "                                                                                                  \n",
      " conv2d_16 (Conv2D)          (None, 14, 21, 8)            104       ['input_20[0][0]']            \n",
      "                                                                                                  \n",
      " lstm_5 (LSTM)               (None, 294, 8)               384       ['reshape_10[0][0]']          \n",
      "                                                                                                  \n",
      " max_pooling2d_12 (MaxPooli  (None, 7, 7, 8)              0         ['conv2d_16[0][0]']           \n",
      " ng2D)                                                                                            \n",
      "                                                                                                  \n",
      " flatten_20 (Flatten)        (None, 2352)                 0         ['lstm_5[0][0]']              \n",
      "                                                                                                  \n",
      " conv2d_17 (Conv2D)          (None, 7, 7, 16)             528       ['max_pooling2d_12[0][0]']    \n",
      "                                                                                                  \n",
      " dense_51 (Dense)            (None, 192)                  451776    ['flatten_20[0][0]']          \n",
      "                                                                                                  \n",
      " max_pooling2d_13 (MaxPooli  (None, 4, 3, 16)             0         ['conv2d_17[0][0]']           \n",
      " ng2D)                                                                                            \n",
      "                                                                                                  \n",
      " reshape_11 (Reshape)        (None, 4, 3, 16)             0         ['dense_51[0][0]']            \n",
      "                                                                                                  \n",
      " concatenate_5 (Concatenate  (None, 4, 3, 32)             0         ['max_pooling2d_13[0][0]',    \n",
      " )                                                                   'reshape_11[0][0]']          \n",
      "                                                                                                  \n",
      " flatten_21 (Flatten)        (None, 384)                  0         ['concatenate_5[0][0]']       \n",
      "                                                                                                  \n",
      " dense_52 (Dense)            (None, 64)                   24640     ['flatten_21[0][0]']          \n",
      "                                                                                                  \n",
      " dense_53 (Dense)            (None, 16)                   1040      ['dense_52[0][0]']            \n",
      "                                                                                                  \n",
      " dense_54 (Dense)            (None, 4)                    68        ['dense_53[0][0]']            \n",
      "                                                                                                  \n",
      "==================================================================================================\n",
      "Total params: 478540 (1.83 MB)\n",
      "Trainable params: 478540 (1.83 MB)\n",
      "Non-trainable params: 0 (0.00 Byte)\n",
      "__________________________________________________________________________________________________\n"
     ]
    }
   ],
   "source": [
    "import keras\n",
    "from keras.layers import Conv3D, MaxPooling2D, Flatten, Reshape, LSTM, Dense, Conv2D, Concatenate\n",
    "num_classes = set(Y).__len__()\n",
    "inp_shape = data.shape[1:]\n",
    "\n",
    "# Input shape: (n_samples, 14, 21, 3)\n",
    "input = Input(shape=inp_shape)\n",
    "x = Conv2D(8, (2, 2), activation='relu', padding='same')(input)\n",
    "x = MaxPooling2D((2, 3), padding='same')(x)\n",
    "x = Conv2D(16, (2, 2), activation='relu', padding='same')(x)\n",
    "x = MaxPooling2D((2, 3), padding='same')(x)\n",
    "\n",
    "y = Reshape((inp_shape[0]*inp_shape[1], inp_shape[2]))(input)\n",
    "y = LSTM(8, return_sequences=True)(y)\n",
    "y = Flatten()(y)\n",
    "y = Dense(192, activation='relu')(y)\n",
    "y = Reshape((4, 3, 16))(y)\n",
    "y = Concatenate()([x, y])\n",
    "y = Flatten()(y)\n",
    "y = Dense(64, activation='relu')(y)\n",
    "y = Dense(16, activation='relu')(y)\n",
    "y = Dense(4, activation='softmax')(y)\n",
    "model = Model(input, y)\n",
    "model.summary()"
   ]
  },
  {
   "cell_type": "code",
   "execution_count": 99,
   "metadata": {},
   "outputs": [
    {
     "name": "stdout",
     "output_type": "stream",
     "text": [
      "Epoch 1/30\n"
     ]
    },
    {
     "name": "stderr",
     "output_type": "stream",
     "text": [
      "2023-06-20 18:21:22.046176: I tensorflow/core/grappler/optimizers/custom_graph_optimizer_registry.cc:114] Plugin optimizer for device_type GPU is enabled.\n",
      "2023-06-20 18:21:22.238436: I tensorflow/core/grappler/optimizers/custom_graph_optimizer_registry.cc:114] Plugin optimizer for device_type GPU is enabled.\n",
      "2023-06-20 18:21:22.709695: I tensorflow/core/grappler/optimizers/custom_graph_optimizer_registry.cc:114] Plugin optimizer for device_type GPU is enabled.\n"
     ]
    },
    {
     "name": "stdout",
     "output_type": "stream",
     "text": [
      "7/7 [==============================] - ETA: 0s - loss: 1.0268 - accuracy: 0.4954"
     ]
    },
    {
     "name": "stderr",
     "output_type": "stream",
     "text": [
      "2023-06-20 18:21:24.054583: I tensorflow/core/grappler/optimizers/custom_graph_optimizer_registry.cc:114] Plugin optimizer for device_type GPU is enabled.\n",
      "2023-06-20 18:21:24.131479: I tensorflow/core/grappler/optimizers/custom_graph_optimizer_registry.cc:114] Plugin optimizer for device_type GPU is enabled.\n"
     ]
    },
    {
     "name": "stdout",
     "output_type": "stream",
     "text": [
      "7/7 [==============================] - 3s 192ms/step - loss: 1.0268 - accuracy: 0.4954 - val_loss: 0.8257 - val_accuracy: 0.4167\n",
      "Epoch 2/30\n",
      "7/7 [==============================] - 0s 56ms/step - loss: 0.6081 - accuracy: 0.6991 - val_loss: 0.3790 - val_accuracy: 0.8750\n",
      "Epoch 3/30\n",
      "7/7 [==============================] - 0s 57ms/step - loss: 0.3907 - accuracy: 0.8519 - val_loss: 0.3642 - val_accuracy: 0.8750\n",
      "Epoch 4/30\n",
      "7/7 [==============================] - 0s 54ms/step - loss: 0.3128 - accuracy: 0.8981 - val_loss: 0.2569 - val_accuracy: 0.9583\n",
      "Epoch 5/30\n",
      "7/7 [==============================] - 0s 48ms/step - loss: 0.2709 - accuracy: 0.9352 - val_loss: 0.1751 - val_accuracy: 0.9583\n",
      "Epoch 6/30\n",
      "7/7 [==============================] - 0s 54ms/step - loss: 0.2275 - accuracy: 0.9398 - val_loss: 0.2705 - val_accuracy: 0.9583\n",
      "Epoch 7/30\n",
      "7/7 [==============================] - 0s 54ms/step - loss: 0.1718 - accuracy: 0.9769 - val_loss: 0.1184 - val_accuracy: 0.9583\n",
      "Epoch 8/30\n",
      "7/7 [==============================] - 0s 50ms/step - loss: 0.1637 - accuracy: 0.9722 - val_loss: 0.1748 - val_accuracy: 0.9583\n",
      "Epoch 9/30\n",
      "7/7 [==============================] - 0s 49ms/step - loss: 0.1493 - accuracy: 0.9815 - val_loss: 0.1294 - val_accuracy: 0.9583\n",
      "Epoch 10/30\n",
      "7/7 [==============================] - 0s 50ms/step - loss: 0.1391 - accuracy: 0.9861 - val_loss: 0.1125 - val_accuracy: 0.9583\n",
      "Epoch 11/30\n",
      "7/7 [==============================] - 0s 51ms/step - loss: 0.1362 - accuracy: 0.9861 - val_loss: 0.1088 - val_accuracy: 0.9583\n",
      "Epoch 12/30\n",
      "7/7 [==============================] - 0s 49ms/step - loss: 0.1376 - accuracy: 0.9861 - val_loss: 0.1065 - val_accuracy: 0.9583\n",
      "Epoch 13/30\n",
      "7/7 [==============================] - 0s 50ms/step - loss: 0.1312 - accuracy: 0.9861 - val_loss: 0.0901 - val_accuracy: 0.9583\n",
      "Epoch 14/30\n",
      "7/7 [==============================] - 0s 48ms/step - loss: 0.1379 - accuracy: 0.9861 - val_loss: 0.1109 - val_accuracy: 0.9583\n",
      "Epoch 15/30\n",
      "7/7 [==============================] - 0s 49ms/step - loss: 0.1353 - accuracy: 0.9861 - val_loss: 0.1315 - val_accuracy: 0.9583\n",
      "Epoch 16/30\n",
      "7/7 [==============================] - 0s 48ms/step - loss: 0.1489 - accuracy: 0.9815 - val_loss: 0.0475 - val_accuracy: 0.9583\n",
      "Epoch 17/30\n",
      "7/7 [==============================] - 0s 49ms/step - loss: 0.1350 - accuracy: 0.9815 - val_loss: 0.1470 - val_accuracy: 0.9583\n",
      "Epoch 18/30\n",
      "7/7 [==============================] - 0s 48ms/step - loss: 0.1369 - accuracy: 0.9861 - val_loss: 0.0927 - val_accuracy: 0.9583\n",
      "Epoch 19/30\n",
      "7/7 [==============================] - 0s 48ms/step - loss: 0.1336 - accuracy: 0.9815 - val_loss: 0.0783 - val_accuracy: 0.9583\n",
      "Epoch 20/30\n",
      "7/7 [==============================] - 0s 51ms/step - loss: 0.1233 - accuracy: 0.9861 - val_loss: 0.1310 - val_accuracy: 0.9583\n",
      "Epoch 21/30\n",
      "7/7 [==============================] - 0s 50ms/step - loss: 0.1270 - accuracy: 0.9861 - val_loss: 0.1449 - val_accuracy: 0.9583\n",
      "Epoch 22/30\n",
      "7/7 [==============================] - 0s 47ms/step - loss: 0.1212 - accuracy: 0.9861 - val_loss: 0.1170 - val_accuracy: 0.9583\n",
      "Epoch 23/30\n",
      "7/7 [==============================] - 0s 49ms/step - loss: 0.1220 - accuracy: 0.9861 - val_loss: 0.1704 - val_accuracy: 0.9583\n",
      "Epoch 24/30\n",
      "7/7 [==============================] - 0s 50ms/step - loss: 0.1327 - accuracy: 0.9861 - val_loss: 0.1498 - val_accuracy: 0.9583\n",
      "Epoch 25/30\n",
      "7/7 [==============================] - 0s 50ms/step - loss: 0.1221 - accuracy: 0.9861 - val_loss: 0.1235 - val_accuracy: 0.9583\n",
      "Epoch 26/30\n",
      "7/7 [==============================] - 0s 48ms/step - loss: 0.1318 - accuracy: 0.9861 - val_loss: 0.1274 - val_accuracy: 0.9583\n",
      "Epoch 27/30\n",
      "7/7 [==============================] - 0s 51ms/step - loss: 0.1297 - accuracy: 0.9861 - val_loss: 0.1034 - val_accuracy: 0.9583\n",
      "Epoch 28/30\n",
      "7/7 [==============================] - 0s 46ms/step - loss: 0.1388 - accuracy: 0.9861 - val_loss: 0.1394 - val_accuracy: 0.9583\n",
      "Epoch 29/30\n",
      "7/7 [==============================] - 0s 49ms/step - loss: 0.1481 - accuracy: 0.9861 - val_loss: 0.0987 - val_accuracy: 0.9583\n",
      "Epoch 30/30\n",
      "7/7 [==============================] - 0s 47ms/step - loss: 0.1708 - accuracy: 0.9722 - val_loss: 0.0236 - val_accuracy: 1.0000\n"
     ]
    },
    {
     "data": {
      "text/plain": [
       "<keras.src.callbacks.History at 0x34d6a7e50>"
      ]
     },
     "execution_count": 99,
     "metadata": {},
     "output_type": "execute_result"
    }
   ],
   "source": [
    "\n",
    "model.compile(optimizer='adam', loss='categorical_crossentropy', metrics=['accuracy'])\n",
    "model.fit(X_train, y_train, epochs=30, batch_size=32, validation_split=0.1, shuffle=True)"
   ]
  },
  {
   "cell_type": "code",
   "execution_count": 100,
   "metadata": {},
   "outputs": [
    {
     "name": "stdout",
     "output_type": "stream",
     "text": [
      "1/2 [==============>...............] - ETA: 0s"
     ]
    },
    {
     "name": "stderr",
     "output_type": "stream",
     "text": [
      "2023-06-20 18:21:37.104421: I tensorflow/core/grappler/optimizers/custom_graph_optimizer_registry.cc:114] Plugin optimizer for device_type GPU is enabled.\n",
      "2023-06-20 18:21:37.164075: I tensorflow/core/grappler/optimizers/custom_graph_optimizer_registry.cc:114] Plugin optimizer for device_type GPU is enabled.\n"
     ]
    },
    {
     "name": "stdout",
     "output_type": "stream",
     "text": [
      "2/2 [==============================] - 0s 51ms/step\n"
     ]
    }
   ],
   "source": [
    "y_pred = model.predict(X_test)"
   ]
  },
  {
   "cell_type": "code",
   "execution_count": 101,
   "metadata": {},
   "outputs": [
    {
     "data": {
      "text/plain": [
       "array([[ 8,  0,  0,  0],\n",
       "       [ 0, 18,  0,  0],\n",
       "       [ 0,  0, 27,  0],\n",
       "       [ 0,  0,  0,  8]])"
      ]
     },
     "execution_count": 101,
     "metadata": {},
     "output_type": "execute_result"
    }
   ],
   "source": [
    "from sklearn.metrics import confusion_matrix\n",
    "confusion_matrix(y_test.argmax(axis=1), y_pred.argmax(axis=1))"
   ]
  },
  {
   "cell_type": "code",
   "execution_count": 102,
   "metadata": {},
   "outputs": [
    {
     "name": "stdout",
     "output_type": "stream",
     "text": [
      "Precision:  1.0\n",
      "Recall:  1.0\n",
      "F1:  1.0\n"
     ]
    }
   ],
   "source": [
    "precision = precision_score(y_test.argmax(axis=1), y_pred.argmax(axis=1), average='weighted')\n",
    "recall = recall_score(y_test.argmax(axis=1), y_pred.argmax(axis=1), average='weighted')\n",
    "f1 = f1_score(y_test.argmax(axis=1), y_pred.argmax(axis=1), average='weighted')\n",
    "print(\"Precision: \", round(precision, 2))\n",
    "print(\"Recall: \", round(recall, 2))\n",
    "print(\"F1: \", round(f1, 2))"
   ]
  },
  {
   "attachments": {},
   "cell_type": "markdown",
   "metadata": {},
   "source": [
    "# just linear layers"
   ]
  },
  {
   "cell_type": "code",
   "execution_count": 103,
   "metadata": {},
   "outputs": [
    {
     "name": "stdout",
     "output_type": "stream",
     "text": [
      "Model: \"model_12\"\n",
      "__________________________________________________________________________________________________\n",
      " Layer (type)                Output Shape                 Param #   Connected to                  \n",
      "==================================================================================================\n",
      " input_20 (InputLayer)       [(None, 14, 21, 3)]          0         []                            \n",
      "                                                                                                  \n",
      " reshape_10 (Reshape)        (None, 294, 3)               0         ['input_20[0][0]']            \n",
      "                                                                                                  \n",
      " conv2d_16 (Conv2D)          (None, 14, 21, 8)            104       ['input_20[0][0]']            \n",
      "                                                                                                  \n",
      " lstm_5 (LSTM)               (None, 294, 8)               384       ['reshape_10[0][0]']          \n",
      "                                                                                                  \n",
      " max_pooling2d_12 (MaxPooli  (None, 7, 7, 8)              0         ['conv2d_16[0][0]']           \n",
      " ng2D)                                                                                            \n",
      "                                                                                                  \n",
      " flatten_20 (Flatten)        (None, 2352)                 0         ['lstm_5[0][0]']              \n",
      "                                                                                                  \n",
      " conv2d_17 (Conv2D)          (None, 7, 7, 16)             528       ['max_pooling2d_12[0][0]']    \n",
      "                                                                                                  \n",
      " dense_51 (Dense)            (None, 192)                  451776    ['flatten_20[0][0]']          \n",
      "                                                                                                  \n",
      " max_pooling2d_13 (MaxPooli  (None, 4, 3, 16)             0         ['conv2d_17[0][0]']           \n",
      " ng2D)                                                                                            \n",
      "                                                                                                  \n",
      " reshape_11 (Reshape)        (None, 4, 3, 16)             0         ['dense_51[0][0]']            \n",
      "                                                                                                  \n",
      " concatenate_5 (Concatenate  (None, 4, 3, 32)             0         ['max_pooling2d_13[0][0]',    \n",
      " )                                                                   'reshape_11[0][0]']          \n",
      "                                                                                                  \n",
      " flatten_21 (Flatten)        (None, 384)                  0         ['concatenate_5[0][0]']       \n",
      "                                                                                                  \n",
      " dense_52 (Dense)            (None, 64)                   24640     ['flatten_21[0][0]']          \n",
      "                                                                                                  \n",
      " dense_53 (Dense)            (None, 16)                   1040      ['dense_52[0][0]']            \n",
      "                                                                                                  \n",
      " dense_54 (Dense)            (None, 4)                    68        ['dense_53[0][0]']            \n",
      "                                                                                                  \n",
      "==================================================================================================\n",
      "Total params: 478540 (1.83 MB)\n",
      "Trainable params: 478540 (1.83 MB)\n",
      "Non-trainable params: 0 (0.00 Byte)\n",
      "__________________________________________________________________________________________________\n"
     ]
    }
   ],
   "source": [
    "model.summary()"
   ]
  },
  {
   "cell_type": "code",
   "execution_count": 104,
   "metadata": {},
   "outputs": [
    {
     "name": "stdout",
     "output_type": "stream",
     "text": [
      "Epoch 1/30\n",
      "1/7 [===>..........................] - ETA: 2s - loss: 2.0233 - accuracy: 0.1250"
     ]
    },
    {
     "name": "stderr",
     "output_type": "stream",
     "text": [
      "2023-06-20 18:21:47.523713: I tensorflow/core/grappler/optimizers/custom_graph_optimizer_registry.cc:114] Plugin optimizer for device_type GPU is enabled.\n"
     ]
    },
    {
     "name": "stdout",
     "output_type": "stream",
     "text": [
      "7/7 [==============================] - 1s 51ms/step - loss: 1.9415 - accuracy: 0.5787 - val_loss: 1.5620 - val_accuracy: 0.7917\n",
      "Epoch 2/30\n",
      "4/7 [================>.............] - ETA: 0s - loss: 1.5971 - accuracy: 0.7891"
     ]
    },
    {
     "name": "stderr",
     "output_type": "stream",
     "text": [
      "2023-06-20 18:21:47.940392: I tensorflow/core/grappler/optimizers/custom_graph_optimizer_registry.cc:114] Plugin optimizer for device_type GPU is enabled.\n"
     ]
    },
    {
     "name": "stdout",
     "output_type": "stream",
     "text": [
      "7/7 [==============================] - 0s 22ms/step - loss: 1.3369 - accuracy: 0.7870 - val_loss: 0.7530 - val_accuracy: 0.7917\n",
      "Epoch 3/30\n",
      "7/7 [==============================] - 0s 20ms/step - loss: 0.4677 - accuracy: 0.8565 - val_loss: 0.3172 - val_accuracy: 0.9583\n",
      "Epoch 4/30\n",
      "7/7 [==============================] - 0s 19ms/step - loss: 0.2856 - accuracy: 0.9583 - val_loss: 0.2164 - val_accuracy: 0.9583\n",
      "Epoch 5/30\n",
      "7/7 [==============================] - 0s 19ms/step - loss: 0.2865 - accuracy: 0.9352 - val_loss: 0.1734 - val_accuracy: 0.9583\n",
      "Epoch 6/30\n",
      "7/7 [==============================] - 0s 18ms/step - loss: 0.1902 - accuracy: 0.9769 - val_loss: 0.1803 - val_accuracy: 0.9583\n",
      "Epoch 7/30\n",
      "7/7 [==============================] - 0s 18ms/step - loss: 0.1706 - accuracy: 0.9815 - val_loss: 0.1671 - val_accuracy: 0.9583\n",
      "Epoch 8/30\n",
      "7/7 [==============================] - 0s 19ms/step - loss: 0.1680 - accuracy: 0.9815 - val_loss: 0.1494 - val_accuracy: 0.9583\n",
      "Epoch 9/30\n",
      "7/7 [==============================] - 0s 18ms/step - loss: 0.1545 - accuracy: 0.9861 - val_loss: 0.1260 - val_accuracy: 0.9583\n",
      "Epoch 10/30\n",
      "7/7 [==============================] - 0s 20ms/step - loss: 0.1413 - accuracy: 0.9815 - val_loss: 0.1277 - val_accuracy: 0.9583\n",
      "Epoch 11/30\n",
      "7/7 [==============================] - 0s 18ms/step - loss: 0.1230 - accuracy: 0.9861 - val_loss: 0.1628 - val_accuracy: 0.9583\n",
      "Epoch 12/30\n",
      "7/7 [==============================] - 0s 18ms/step - loss: 0.1270 - accuracy: 0.9861 - val_loss: 0.1502 - val_accuracy: 0.9583\n",
      "Epoch 13/30\n",
      "7/7 [==============================] - 0s 18ms/step - loss: 0.1320 - accuracy: 0.9861 - val_loss: 0.1036 - val_accuracy: 0.9583\n",
      "Epoch 14/30\n",
      "7/7 [==============================] - 0s 19ms/step - loss: 0.1533 - accuracy: 0.9861 - val_loss: 0.1319 - val_accuracy: 0.9583\n",
      "Epoch 15/30\n",
      "7/7 [==============================] - 0s 20ms/step - loss: 0.1230 - accuracy: 0.9861 - val_loss: 0.1791 - val_accuracy: 0.9583\n",
      "Epoch 16/30\n",
      "7/7 [==============================] - 0s 20ms/step - loss: 0.1370 - accuracy: 0.9769 - val_loss: 0.1652 - val_accuracy: 0.9583\n",
      "Epoch 17/30\n",
      "7/7 [==============================] - 0s 20ms/step - loss: 0.1188 - accuracy: 0.9861 - val_loss: 0.1525 - val_accuracy: 0.9583\n",
      "Epoch 18/30\n",
      "7/7 [==============================] - 0s 19ms/step - loss: 0.1268 - accuracy: 0.9861 - val_loss: 0.1575 - val_accuracy: 0.9583\n",
      "Epoch 19/30\n",
      "7/7 [==============================] - 0s 20ms/step - loss: 0.1172 - accuracy: 0.9861 - val_loss: 0.1137 - val_accuracy: 0.9583\n",
      "Epoch 20/30\n",
      "7/7 [==============================] - 0s 19ms/step - loss: 0.1282 - accuracy: 0.9861 - val_loss: 0.1669 - val_accuracy: 0.9583\n",
      "Epoch 21/30\n",
      "7/7 [==============================] - 0s 19ms/step - loss: 0.1142 - accuracy: 0.9815 - val_loss: 0.1791 - val_accuracy: 0.9583\n",
      "Epoch 22/30\n",
      "7/7 [==============================] - 0s 18ms/step - loss: 0.1004 - accuracy: 0.9861 - val_loss: 0.1371 - val_accuracy: 0.9583\n",
      "Epoch 23/30\n",
      "7/7 [==============================] - 0s 18ms/step - loss: 0.0949 - accuracy: 0.9861 - val_loss: 0.2081 - val_accuracy: 0.9583\n",
      "Epoch 24/30\n",
      "7/7 [==============================] - 0s 18ms/step - loss: 0.0992 - accuracy: 0.9861 - val_loss: 0.1453 - val_accuracy: 0.9583\n",
      "Epoch 25/30\n",
      "7/7 [==============================] - 0s 19ms/step - loss: 0.0918 - accuracy: 0.9861 - val_loss: 0.1853 - val_accuracy: 0.9583\n",
      "Epoch 26/30\n",
      "7/7 [==============================] - 0s 18ms/step - loss: 0.0913 - accuracy: 0.9861 - val_loss: 0.1708 - val_accuracy: 0.9583\n",
      "Epoch 27/30\n",
      "7/7 [==============================] - 0s 18ms/step - loss: 0.0889 - accuracy: 0.9861 - val_loss: 0.1755 - val_accuracy: 0.9583\n",
      "Epoch 28/30\n",
      "7/7 [==============================] - 0s 18ms/step - loss: 0.0810 - accuracy: 0.9861 - val_loss: 0.1839 - val_accuracy: 0.9583\n",
      "Epoch 29/30\n",
      "7/7 [==============================] - 0s 18ms/step - loss: 0.0957 - accuracy: 0.9861 - val_loss: 0.1828 - val_accuracy: 0.9583\n",
      "Epoch 30/30\n",
      "7/7 [==============================] - 0s 18ms/step - loss: 0.0891 - accuracy: 0.9861 - val_loss: 0.2353 - val_accuracy: 0.9583\n"
     ]
    },
    {
     "data": {
      "text/plain": [
       "<keras.src.callbacks.History at 0x35730d350>"
      ]
     },
     "execution_count": 104,
     "metadata": {},
     "output_type": "execute_result"
    }
   ],
   "source": [
    "input = Input(shape=inp_shape)\n",
    "x = Flatten()(input)\n",
    "x = Dense(256, activation='relu')(x)\n",
    "x = Dense(128, activation='relu')(x)\n",
    "x = Dense(32, activation='relu')(x)\n",
    "x = Dense(4, activation='softmax')(x)\n",
    "model = Model(input, x)\n",
    "\n",
    "model.compile(optimizer='adam', loss='categorical_crossentropy', metrics=['accuracy'])\n",
    "model.fit(X_train, y_train, epochs=30, batch_size=32, validation_split=0.1, shuffle=True)"
   ]
  },
  {
   "cell_type": "code",
   "execution_count": 105,
   "metadata": {},
   "outputs": [
    {
     "name": "stdout",
     "output_type": "stream",
     "text": [
      "2/2 [==============================] - 0s 7ms/step\n"
     ]
    },
    {
     "name": "stderr",
     "output_type": "stream",
     "text": [
      "2023-06-20 18:21:52.614759: I tensorflow/core/grappler/optimizers/custom_graph_optimizer_registry.cc:114] Plugin optimizer for device_type GPU is enabled.\n"
     ]
    },
    {
     "data": {
      "text/plain": [
       "array([[ 8,  0,  0,  0],\n",
       "       [ 0, 18,  0,  0],\n",
       "       [ 0,  0, 27,  0],\n",
       "       [ 0,  0,  0,  8]])"
      ]
     },
     "execution_count": 105,
     "metadata": {},
     "output_type": "execute_result"
    }
   ],
   "source": [
    "y_pred = model.predict(X_test)\n",
    "confusion_matrix(y_test.argmax(axis=1), y_pred.argmax(axis=1))"
   ]
  },
  {
   "cell_type": "code",
   "execution_count": 106,
   "metadata": {},
   "outputs": [
    {
     "name": "stdout",
     "output_type": "stream",
     "text": [
      "Precision:  1.0\n",
      "Recall:  1.0\n",
      "F1:  1.0\n"
     ]
    }
   ],
   "source": [
    "precision = precision_score(y_test.argmax(axis=1), y_pred.argmax(axis=1), average='weighted')\n",
    "recall = recall_score(y_test.argmax(axis=1), y_pred.argmax(axis=1), average='weighted')\n",
    "f1 = f1_score(y_test.argmax(axis=1), y_pred.argmax(axis=1), average='weighted')\n",
    "print(\"Precision: \", round(precision, 2))\n",
    "print(\"Recall: \", round(recall, 2))\n",
    "print(\"F1: \", round(f1, 2))"
   ]
  },
  {
   "cell_type": "code",
   "execution_count": null,
   "metadata": {},
   "outputs": [],
   "source": []
  },
  {
   "cell_type": "code",
   "execution_count": null,
   "metadata": {},
   "outputs": [],
   "source": []
  }
 ],
 "metadata": {
  "kernelspec": {
   "display_name": "hsi",
   "language": "python",
   "name": "python3"
  },
  "language_info": {
   "codemirror_mode": {
    "name": "ipython",
    "version": 3
   },
   "file_extension": ".py",
   "mimetype": "text/x-python",
   "name": "python",
   "nbconvert_exporter": "python",
   "pygments_lexer": "ipython3",
   "version": "3.11.4"
  },
  "orig_nbformat": 4
 },
 "nbformat": 4,
 "nbformat_minor": 2
}
